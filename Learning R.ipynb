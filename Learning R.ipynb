{
 "cells": [
  {
   "cell_type": "markdown",
   "metadata": {},
   "source": [
    "## Notes collected about R programming from various books."
   ]
  },
  {
   "cell_type": "markdown",
   "metadata": {},
   "source": [
    "R has five atomic types : **character, numeric, integer, complex and logical**.\n",
    "Most basic type in R is a **vector**, collection of homogeneous type. \n",
    "On the other hand **list** can contain items of different type.\n",
    "\n",
    "---\n",
    "\n",
    "#### Numbers\n",
    "Numbers are treated as double precision real number objects. If an integer is needed then that has to be specified explicitly using the letter *L*. Not a Number *NaN* and *Inf* are special numbers in R.\n",
    "\n",
    "---\n",
    "\n",
    "#### Attributes\n",
    "Attributes of the objects can be accessed using the function **attributes()**. example attributes of R objects are names, dimensions, class, length etc."
   ]
  },
  {
   "cell_type": "markdown",
   "metadata": {},
   "source": [
    "### Vectors"
   ]
  },
  {
   "cell_type": "code",
   "execution_count": 9,
   "metadata": {},
   "outputs": [],
   "source": [
    "x <- c(0.5, 0.6) # Numeric vector\n",
    "x <- c(TRUE, FALSE) # logical vector\n",
    "x <- c(\"a\", \"b\", \"c\") # character\n",
    "x <- 0:10 #integer\n",
    "x <- c(0+1i, 2+4i) # complex"
   ]
  },
  {
   "cell_type": "code",
   "execution_count": 10,
   "metadata": {},
   "outputs": [
    {
     "name": "stdout",
     "output_type": "stream",
     "text": [
      "[1] \"complex\"\n",
      "[1] \"complex\"\n"
     ]
    }
   ],
   "source": [
    "print(typeof(x))\n",
    "print(class(x))"
   ]
  },
  {
   "cell_type": "markdown",
   "metadata": {},
   "source": [
    "Mixing of the object types leads to coercion. R tries to coerce the types implicitly. One can also explicitly invoke coercion using the **as** functions.\n",
    "If R cannot coerce then it will result in NA"
   ]
  },
  {
   "cell_type": "code",
   "execution_count": 13,
   "metadata": {},
   "outputs": [
    {
     "name": "stdout",
     "output_type": "stream",
     "text": [
      "[1] \"character\"\n",
      "[1] \"character\"\n",
      "[1] \"integer\"\n",
      "[1] 0 1 2 3 4\n",
      "[1] FALSE  TRUE  TRUE  TRUE  TRUE\n"
     ]
    },
    {
     "name": "stderr",
     "output_type": "stream",
     "text": [
      "Warning message in print(as.numeric(x)):\n",
      "\"NAs introduced by coercion\""
     ]
    },
    {
     "name": "stdout",
     "output_type": "stream",
     "text": [
      "[1] NA NA NA\n"
     ]
    }
   ],
   "source": [
    "y <- c(\"a\", TRUE)\n",
    "print(class(y))\n",
    "\n",
    "y <- c(1.8, \"a\")\n",
    "print(class(y))\n",
    "\n",
    "x <- 0:4\n",
    "print(class(x))\n",
    "\n",
    "print(as.numeric(x))\n",
    "print(as.logical(x))\n",
    "\n",
    "x <- c(\"a\", \"b\", \"c\")\n",
    "print(as.numeric(x))"
   ]
  },
  {
   "cell_type": "markdown",
   "metadata": {},
   "source": [
    "### Matrices\n",
    "\n",
    "they are vectors with dimension attribute. \n",
    "matrices are created using the **matrix** keyword as shown below. "
   ]
  },
  {
   "cell_type": "code",
   "execution_count": 14,
   "metadata": {},
   "outputs": [
    {
     "data": {
      "text/html": [
       "<table>\n",
       "<caption>A matrix: 2 × 3 of type lgl</caption>\n",
       "<tbody>\n",
       "\t<tr><td>NA</td><td>NA</td><td>NA</td></tr>\n",
       "\t<tr><td>NA</td><td>NA</td><td>NA</td></tr>\n",
       "</tbody>\n",
       "</table>\n"
      ],
      "text/latex": [
       "A matrix: 2 × 3 of type lgl\n",
       "\\begin{tabular}{lll}\n",
       "\t NA & NA & NA\\\\\n",
       "\t NA & NA & NA\\\\\n",
       "\\end{tabular}\n"
      ],
      "text/markdown": [
       "\n",
       "A matrix: 2 × 3 of type lgl\n",
       "\n",
       "| NA | NA | NA |\n",
       "| NA | NA | NA |\n",
       "\n"
      ],
      "text/plain": [
       "     [,1] [,2] [,3]\n",
       "[1,] NA   NA   NA  \n",
       "[2,] NA   NA   NA  "
      ]
     },
     "metadata": {},
     "output_type": "display_data"
    }
   ],
   "source": [
    "m <- matrix(nrow=2, ncol=3)\n",
    "m"
   ]
  },
  {
   "cell_type": "code",
   "execution_count": 18,
   "metadata": {},
   "outputs": [
    {
     "name": "stdout",
     "output_type": "stream",
     "text": [
      "[1] 2 5\n",
      "$dim\n",
      "[1] 2 5\n",
      "\n",
      "     [,1] [,2] [,3]\n",
      "[1,]    1    3    5\n",
      "[2,]    2    4    6\n",
      "     [,1] [,2] [,3] [,4] [,5]\n",
      "[1,]    1    3    5    7    9\n",
      "[2,]    2    4    6    8   10\n",
      "   [,1] [,2] [,3] [,4] [,5]\n",
      "v1    1    2    3    4    5\n",
      "v2    2    3    4    5    6\n",
      "     v1 v2\n",
      "[1,]  1  2\n",
      "[2,]  2  3\n",
      "[3,]  3  4\n",
      "[4,]  4  5\n",
      "[5,]  5  6\n"
     ]
    }
   ],
   "source": [
    "# get the dimension of the matrix using dim function\n",
    "print(dim(m))\n",
    "\n",
    "# get the attributes of the matrix using attributes function\n",
    "print(attributes(m))\n",
    "\n",
    "# Matrices are created column wise. \n",
    "m <- matrix(1:6, nrow=2, ncol=3)\n",
    "print(m)\n",
    "\n",
    "# Converting vector to matrix\n",
    "m <- 1:10\n",
    "dim(m) <- c(2,5)\n",
    "print(m)\n",
    "\n",
    "# Multiple vectors can be converted to matrix using cbind to concatenate as columns\n",
    "# use rbind to concatenate them as rows. \n",
    "v1 <- 1:5\n",
    "v2 <- 2:6\n",
    "print(rbind(v1,v2))\n",
    "print(cbind(v1,v2))"
   ]
  },
  {
   "cell_type": "markdown",
   "metadata": {},
   "source": [
    "### Lists\n",
    "Can contain different types of items are are created using the **list** keyword."
   ]
  },
  {
   "cell_type": "code",
   "execution_count": 20,
   "metadata": {},
   "outputs": [
    {
     "name": "stdout",
     "output_type": "stream",
     "text": [
      "[[1]]\n",
      "[1] 1\n",
      "\n",
      "[[2]]\n",
      "[1] \"a\"\n",
      "\n",
      "[[3]]\n",
      "[1] TRUE\n",
      "\n",
      "[[4]]\n",
      "[1] 1+4i\n",
      "\n",
      "[1] \"list\"\n",
      "NULL\n",
      "[1] \"list\"\n",
      "[[1]]\n",
      "NULL\n",
      "\n",
      "[[2]]\n",
      "NULL\n",
      "\n",
      "[[3]]\n",
      "NULL\n",
      "\n",
      "[1] \"list\"\n"
     ]
    }
   ],
   "source": [
    "x <- list(1, \"a\", TRUE, 1+4i)\n",
    "print(x)\n",
    "print(class(x))\n",
    "print(attributes(x))\n",
    "print(typeof(x))\n",
    "\n",
    "# empty list\n",
    "x <- vector(\"list\", length=3)\n",
    "print(x)\n",
    "print(class(x))"
   ]
  },
  {
   "cell_type": "markdown",
   "metadata": {},
   "source": [
    "### Factors\n",
    "Represents categorical data. Like an integer vector where each integer has a label. for example gender \"male\" and \"female\"\n",
    "Can be created using the keyword **factor()**"
   ]
  },
  {
   "cell_type": "code",
   "execution_count": 22,
   "metadata": {},
   "outputs": [
    {
     "name": "stdout",
     "output_type": "stream",
     "text": [
      "[1] male   male   female male   female\n",
      "Levels: female male\n",
      "[1] \"factor\"\n",
      "[1] \"integer\"\n"
     ]
    }
   ],
   "source": [
    "x <- factor(c(\"male\", \"male\", \"female\", \"male\", \"female\"))\n",
    "print(x)\n",
    "print(class(x))\n",
    "print(typeof(x))"
   ]
  },
  {
   "cell_type": "markdown",
   "metadata": {},
   "source": [
    "## Subsetting R Objects"
   ]
  },
  {
   "cell_type": "code",
   "execution_count": 25,
   "metadata": {},
   "outputs": [
    {
     "name": "stdout",
     "output_type": "stream",
     "text": [
      "[1] \"a\"\n",
      "[1] \"b\" \"c\"\n",
      "[1] \"a\" \"d\" \"b\"\n",
      "[1] \"b\" \"c\" \"d\" \"e\"\n"
     ]
    }
   ],
   "source": [
    "# Subsetting a vector\n",
    "x <- c(\"a\", \"b\", \"c\", \"d\", \"e\")\n",
    "print(x[1])\n",
    "print(x[2:3])\n",
    "print(x[c(1,4,2)])\n",
    "print(x[x > \"a\"])"
   ]
  },
  {
   "cell_type": "code",
   "execution_count": 29,
   "metadata": {},
   "outputs": [
    {
     "name": "stdout",
     "output_type": "stream",
     "text": [
      "     [,1] [,2] [,3]\n",
      "[1,]    1    3    5\n",
      "[2,]    2    4    6\n",
      "[1] 3\n",
      "     [,1]\n",
      "[1,]    3\n"
     ]
    }
   ],
   "source": [
    "# Subsetting a matrix\n",
    "x <- matrix(1:6, 2, 3)\n",
    "print(x)\n",
    "print(x[1,2])\n",
    "# If you set the drop value to FALSE the it retains the dimension\n",
    "print(x[1,2, drop=FALSE])"
   ]
  },
  {
   "cell_type": "code",
   "execution_count": 32,
   "metadata": {},
   "outputs": [
    {
     "name": "stdout",
     "output_type": "stream",
     "text": [
      "$foo\n",
      "[1] 1 2 3 4\n",
      "\n",
      "$bar\n",
      "[1] 0.6\n",
      "\n",
      "[1] 1 2 3 4\n",
      "[1] 0.6\n",
      "[1] 0.6\n",
      "$foo\n",
      "[1] 1 2 3 4\n",
      "\n",
      "$baz\n",
      "[1] \"hello\"\n",
      "\n"
     ]
    }
   ],
   "source": [
    "# Subsetting lists\n",
    "x <- list(foo = 1:4, bar = 0.6)\n",
    "print(x)\n",
    "print(x[[1]])\n",
    "print(x[[\"bar\"]])\n",
    "print(x$bar)\n",
    "\n",
    "# extracting multiple elements from a list\n",
    "y <- list(foo = 1:4, bar = 20:29, baz=\"hello\") # Returns a list whereas [[ ]] returns item. b\n",
    "print(y[c(1,3)])"
   ]
  },
  {
   "cell_type": "markdown",
   "metadata": {},
   "source": [
    "## Vectorized Operations"
   ]
  },
  {
   "cell_type": "code",
   "execution_count": 34,
   "metadata": {},
   "outputs": [
    {
     "data": {
      "text/html": [
       "<ol class=list-inline>\n",
       "\t<li>7</li>\n",
       "\t<li>9</li>\n",
       "\t<li>11</li>\n",
       "\t<li>13</li>\n",
       "</ol>\n"
      ],
      "text/latex": [
       "\\begin{enumerate*}\n",
       "\\item 7\n",
       "\\item 9\n",
       "\\item 11\n",
       "\\item 13\n",
       "\\end{enumerate*}\n"
      ],
      "text/markdown": [
       "1. 7\n",
       "2. 9\n",
       "3. 11\n",
       "4. 13\n",
       "\n",
       "\n"
      ],
      "text/plain": [
       "[1]  7  9 11 13"
      ]
     },
     "metadata": {},
     "output_type": "display_data"
    }
   ],
   "source": [
    "x <- 1:4\n",
    "y <- 6:9\n",
    "z <- x + y\n",
    "z"
   ]
  },
  {
   "cell_type": "code",
   "execution_count": 36,
   "metadata": {},
   "outputs": [
    {
     "name": "stdout",
     "output_type": "stream",
     "text": [
      "     [,1] [,2]\n",
      "[1,]   10   30\n",
      "[2,]   20   40\n",
      "     [,1] [,2]\n",
      "[1,]  0.1  0.3\n",
      "[2,]  0.2  0.4\n",
      "     [,1] [,2]\n",
      "[1,]   40   40\n",
      "[2,]   60   60\n"
     ]
    }
   ],
   "source": [
    "x <- matrix(1:4, 2, 2)\n",
    "y <- matrix(rep(10,4), 2, 2)\n",
    "print(x * y)\n",
    "print(x / y)\n",
    "print(x %*% y)"
   ]
  },
  {
   "cell_type": "markdown",
   "metadata": {},
   "source": [
    "# Dates and Times"
   ]
  },
  {
   "cell_type": "markdown",
   "metadata": {},
   "source": [
    "Dates are stored internally as the number of days since 1970/01/01 and time as number of seconds since 1970/01/01. Dates are represented by the *Date* class and can be coerced from a character string using **as.Date()** function. Internal representation of the Date object can be seen using the function **unclass**."
   ]
  },
  {
   "cell_type": "code",
   "execution_count": 40,
   "metadata": {},
   "outputs": [
    {
     "data": {
      "text/html": [
       "<time datetime=\"1970-01-10\">1970-01-10</time>"
      ],
      "text/latex": [
       "1970-01-10"
      ],
      "text/markdown": [
       "1970-01-10"
      ],
      "text/plain": [
       "[1] \"1970-01-10\""
      ]
     },
     "metadata": {},
     "output_type": "display_data"
    }
   ],
   "source": [
    "x <- as.Date(\"1970/01/10\")\n",
    "x"
   ]
  },
  {
   "cell_type": "code",
   "execution_count": 41,
   "metadata": {},
   "outputs": [
    {
     "data": {
      "text/html": [
       "9"
      ],
      "text/latex": [
       "9"
      ],
      "text/markdown": [
       "9"
      ],
      "text/plain": [
       "[1] 9"
      ]
     },
     "metadata": {},
     "output_type": "display_data"
    }
   ],
   "source": [
    "unclass(x)"
   ]
  },
  {
   "cell_type": "markdown",
   "metadata": {},
   "source": [
    "Times are represented by **POSIXlt** and **POSIXct**\n",
    "* POSIXlt - a list of information like day of the week, day etc\n",
    "* POSIXct - a large number"
   ]
  },
  {
   "cell_type": "code",
   "execution_count": 42,
   "metadata": {},
   "outputs": [
    {
     "data": {
      "text/plain": [
       "[1] \"2019-10-30 21:52:27 CET\""
      ]
     },
     "metadata": {},
     "output_type": "display_data"
    }
   ],
   "source": [
    "x <- Sys.time()\n",
    "x"
   ]
  },
  {
   "cell_type": "code",
   "execution_count": 43,
   "metadata": {},
   "outputs": [
    {
     "data": {
      "text/plain": [
       "[1] \"2019-10-30 21:52:27 CET\""
      ]
     },
     "metadata": {},
     "output_type": "display_data"
    }
   ],
   "source": [
    "p <- as.POSIXlt(x)\n",
    "p"
   ]
  },
  {
   "cell_type": "code",
   "execution_count": 44,
   "metadata": {},
   "outputs": [
    {
     "data": {
      "text/html": [
       "<dl>\n",
       "\t<dt>$sec</dt>\n",
       "\t\t<dd>27.4375081062317</dd>\n",
       "\t<dt>$min</dt>\n",
       "\t\t<dd>52</dd>\n",
       "\t<dt>$hour</dt>\n",
       "\t\t<dd>21</dd>\n",
       "\t<dt>$mday</dt>\n",
       "\t\t<dd>30</dd>\n",
       "\t<dt>$mon</dt>\n",
       "\t\t<dd>9</dd>\n",
       "\t<dt>$year</dt>\n",
       "\t\t<dd>119</dd>\n",
       "\t<dt>$wday</dt>\n",
       "\t\t<dd>3</dd>\n",
       "\t<dt>$yday</dt>\n",
       "\t\t<dd>302</dd>\n",
       "\t<dt>$isdst</dt>\n",
       "\t\t<dd>0</dd>\n",
       "\t<dt>$zone</dt>\n",
       "\t\t<dd>'CET'</dd>\n",
       "\t<dt>$gmtoff</dt>\n",
       "\t\t<dd>3600</dd>\n",
       "</dl>\n"
      ],
      "text/latex": [
       "\\begin{description}\n",
       "\\item[\\$sec] 27.4375081062317\n",
       "\\item[\\$min] 52\n",
       "\\item[\\$hour] 21\n",
       "\\item[\\$mday] 30\n",
       "\\item[\\$mon] 9\n",
       "\\item[\\$year] 119\n",
       "\\item[\\$wday] 3\n",
       "\\item[\\$yday] 302\n",
       "\\item[\\$isdst] 0\n",
       "\\item[\\$zone] 'CET'\n",
       "\\item[\\$gmtoff] 3600\n",
       "\\end{description}\n"
      ],
      "text/markdown": [
       "$sec\n",
       ":   27.4375081062317\n",
       "$min\n",
       ":   52\n",
       "$hour\n",
       ":   21\n",
       "$mday\n",
       ":   30\n",
       "$mon\n",
       ":   9\n",
       "$year\n",
       ":   119\n",
       "$wday\n",
       ":   3\n",
       "$yday\n",
       ":   302\n",
       "$isdst\n",
       ":   0\n",
       "$zone\n",
       ":   'CET'\n",
       "$gmtoff\n",
       ":   3600\n",
       "\n",
       "\n"
      ],
      "text/plain": [
       "$sec\n",
       "[1] 27.43751\n",
       "\n",
       "$min\n",
       "[1] 52\n",
       "\n",
       "$hour\n",
       "[1] 21\n",
       "\n",
       "$mday\n",
       "[1] 30\n",
       "\n",
       "$mon\n",
       "[1] 9\n",
       "\n",
       "$year\n",
       "[1] 119\n",
       "\n",
       "$wday\n",
       "[1] 3\n",
       "\n",
       "$yday\n",
       "[1] 302\n",
       "\n",
       "$isdst\n",
       "[1] 0\n",
       "\n",
       "$zone\n",
       "[1] \"CET\"\n",
       "\n",
       "$gmtoff\n",
       "[1] 3600\n",
       "\n",
       "attr(,\"tzone\")\n",
       "[1] \"\"     \"CET\"  \"CEST\""
      ]
     },
     "metadata": {},
     "output_type": "display_data"
    }
   ],
   "source": [
    "unclass(p)"
   ]
  },
  {
   "cell_type": "code",
   "execution_count": 45,
   "metadata": {},
   "outputs": [
    {
     "data": {
      "text/html": [
       "1572468747.43751"
      ],
      "text/latex": [
       "1572468747.43751"
      ],
      "text/markdown": [
       "1572468747.43751"
      ],
      "text/plain": [
       "[1] 1572468747"
      ]
     },
     "metadata": {},
     "output_type": "display_data"
    }
   ],
   "source": [
    "unclass(x)"
   ]
  },
  {
   "cell_type": "code",
   "execution_count": 48,
   "metadata": {},
   "outputs": [
    {
     "data": {
      "text/html": [
       "30"
      ],
      "text/latex": [
       "30"
      ],
      "text/markdown": [
       "30"
      ],
      "text/plain": [
       "[1] 30"
      ]
     },
     "metadata": {},
     "output_type": "display_data"
    }
   ],
   "source": [
    "p$mday"
   ]
  }
 ],
 "metadata": {
  "kernelspec": {
   "display_name": "R",
   "language": "R",
   "name": "ir"
  },
  "language_info": {
   "codemirror_mode": "r",
   "file_extension": ".r",
   "mimetype": "text/x-r-source",
   "name": "R",
   "pygments_lexer": "r",
   "version": "3.5.3"
  }
 },
 "nbformat": 4,
 "nbformat_minor": 2
}

{
 "cells": [
  {
   "cell_type": "markdown",
   "metadata": {},
   "source": [
    "# Notes collected about R programming from various books."
   ]
  },
  {
   "cell_type": "markdown",
   "metadata": {},
   "source": [
    "R has five atomic types : **character, numeric, integer, complex and logical**.\n",
    "Most basic type in R is a **vector**, collection of homogeneous type. \n",
    "On the other hand **list** can contain items of different type.\n",
    "\n",
    "---\n",
    "\n",
    "#### Numbers\n",
    "Numbers are treated as double precision real number objects. If an integer is needed then that has to be specified explicitly using the letter *L*. Not a Number *NaN* and *Inf* are special numbers in R.\n",
    "\n",
    "---\n",
    "\n",
    "#### Attributes\n",
    "Attributes of the objects can be accessed using the function **attributes()**. example attributes of R objects are names, dimensions, class, length etc."
   ]
  },
  {
   "cell_type": "markdown",
   "metadata": {},
   "source": [
    "### Vectors"
   ]
  },
  {
   "cell_type": "code",
   "execution_count": 9,
   "metadata": {},
   "outputs": [],
   "source": [
    "x <- c(0.5, 0.6) # Numeric vector\n",
    "x <- c(TRUE, FALSE) # logical vector\n",
    "x <- c(\"a\", \"b\", \"c\") # character\n",
    "x <- 0:10 #integer\n",
    "x <- c(0+1i, 2+4i) # complex"
   ]
  },
  {
   "cell_type": "code",
   "execution_count": 10,
   "metadata": {},
   "outputs": [
    {
     "name": "stdout",
     "output_type": "stream",
     "text": [
      "[1] \"complex\"\n",
      "[1] \"complex\"\n"
     ]
    }
   ],
   "source": [
    "print(typeof(x))\n",
    "print(class(x))"
   ]
  },
  {
   "cell_type": "markdown",
   "metadata": {},
   "source": [
    "Mixing of the object types leads to coercion. R tries to coerce the types implicitly. One can also explicitly invoke coercion using the **as** functions.\n",
    "If R cannot coerce then it will result in NA"
   ]
  },
  {
   "cell_type": "code",
   "execution_count": 13,
   "metadata": {},
   "outputs": [
    {
     "name": "stdout",
     "output_type": "stream",
     "text": [
      "[1] \"character\"\n",
      "[1] \"character\"\n",
      "[1] \"integer\"\n",
      "[1] 0 1 2 3 4\n",
      "[1] FALSE  TRUE  TRUE  TRUE  TRUE\n"
     ]
    },
    {
     "name": "stderr",
     "output_type": "stream",
     "text": [
      "Warning message in print(as.numeric(x)):\n",
      "\"NAs introduced by coercion\""
     ]
    },
    {
     "name": "stdout",
     "output_type": "stream",
     "text": [
      "[1] NA NA NA\n"
     ]
    }
   ],
   "source": [
    "y <- c(\"a\", TRUE)\n",
    "print(class(y))\n",
    "\n",
    "y <- c(1.8, \"a\")\n",
    "print(class(y))\n",
    "\n",
    "x <- 0:4\n",
    "print(class(x))\n",
    "\n",
    "print(as.numeric(x))\n",
    "print(as.logical(x))\n",
    "\n",
    "x <- c(\"a\", \"b\", \"c\")\n",
    "print(as.numeric(x))"
   ]
  },
  {
   "cell_type": "markdown",
   "metadata": {},
   "source": [
    "### Matrices\n",
    "\n",
    "they are vectors with dimension attribute. \n",
    "matrices are created using the **matrix** keyword as shown below. "
   ]
  },
  {
   "cell_type": "code",
   "execution_count": 14,
   "metadata": {},
   "outputs": [
    {
     "data": {
      "text/html": [
       "<table>\n",
       "<caption>A matrix: 2 × 3 of type lgl</caption>\n",
       "<tbody>\n",
       "\t<tr><td>NA</td><td>NA</td><td>NA</td></tr>\n",
       "\t<tr><td>NA</td><td>NA</td><td>NA</td></tr>\n",
       "</tbody>\n",
       "</table>\n"
      ],
      "text/latex": [
       "A matrix: 2 × 3 of type lgl\n",
       "\\begin{tabular}{lll}\n",
       "\t NA & NA & NA\\\\\n",
       "\t NA & NA & NA\\\\\n",
       "\\end{tabular}\n"
      ],
      "text/markdown": [
       "\n",
       "A matrix: 2 × 3 of type lgl\n",
       "\n",
       "| NA | NA | NA |\n",
       "| NA | NA | NA |\n",
       "\n"
      ],
      "text/plain": [
       "     [,1] [,2] [,3]\n",
       "[1,] NA   NA   NA  \n",
       "[2,] NA   NA   NA  "
      ]
     },
     "metadata": {},
     "output_type": "display_data"
    }
   ],
   "source": [
    "m <- matrix(nrow=2, ncol=3)\n",
    "m"
   ]
  },
  {
   "cell_type": "code",
   "execution_count": 18,
   "metadata": {},
   "outputs": [
    {
     "name": "stdout",
     "output_type": "stream",
     "text": [
      "[1] 2 5\n",
      "$dim\n",
      "[1] 2 5\n",
      "\n",
      "     [,1] [,2] [,3]\n",
      "[1,]    1    3    5\n",
      "[2,]    2    4    6\n",
      "     [,1] [,2] [,3] [,4] [,5]\n",
      "[1,]    1    3    5    7    9\n",
      "[2,]    2    4    6    8   10\n",
      "   [,1] [,2] [,3] [,4] [,5]\n",
      "v1    1    2    3    4    5\n",
      "v2    2    3    4    5    6\n",
      "     v1 v2\n",
      "[1,]  1  2\n",
      "[2,]  2  3\n",
      "[3,]  3  4\n",
      "[4,]  4  5\n",
      "[5,]  5  6\n"
     ]
    }
   ],
   "source": [
    "# get the dimension of the matrix using dim function\n",
    "print(dim(m))\n",
    "\n",
    "# get the attributes of the matrix using attributes function\n",
    "print(attributes(m))\n",
    "\n",
    "# Matrices are created column wise. \n",
    "m <- matrix(1:6, nrow=2, ncol=3)\n",
    "print(m)\n",
    "\n",
    "# Converting vector to matrix\n",
    "m <- 1:10\n",
    "dim(m) <- c(2,5)\n",
    "print(m)\n",
    "\n",
    "# Multiple vectors can be converted to matrix using cbind to concatenate as columns\n",
    "# use rbind to concatenate them as rows. \n",
    "v1 <- 1:5\n",
    "v2 <- 2:6\n",
    "print(rbind(v1,v2))\n",
    "print(cbind(v1,v2))"
   ]
  },
  {
   "cell_type": "markdown",
   "metadata": {},
   "source": [
    "### Lists\n",
    "Can contain different types of items are are created using the **list** keyword."
   ]
  },
  {
   "cell_type": "code",
   "execution_count": 20,
   "metadata": {},
   "outputs": [
    {
     "name": "stdout",
     "output_type": "stream",
     "text": [
      "[[1]]\n",
      "[1] 1\n",
      "\n",
      "[[2]]\n",
      "[1] \"a\"\n",
      "\n",
      "[[3]]\n",
      "[1] TRUE\n",
      "\n",
      "[[4]]\n",
      "[1] 1+4i\n",
      "\n",
      "[1] \"list\"\n",
      "NULL\n",
      "[1] \"list\"\n",
      "[[1]]\n",
      "NULL\n",
      "\n",
      "[[2]]\n",
      "NULL\n",
      "\n",
      "[[3]]\n",
      "NULL\n",
      "\n",
      "[1] \"list\"\n"
     ]
    }
   ],
   "source": [
    "x <- list(1, \"a\", TRUE, 1+4i)\n",
    "print(x)\n",
    "print(class(x))\n",
    "print(attributes(x))\n",
    "print(typeof(x))\n",
    "\n",
    "# empty list\n",
    "x <- vector(\"list\", length=3)\n",
    "print(x)\n",
    "print(class(x))"
   ]
  },
  {
   "cell_type": "markdown",
   "metadata": {},
   "source": [
    "### Factors\n",
    "Represents categorical data. Like an integer vector where each integer has a label. for example gender \"male\" and \"female\"\n",
    "Can be created using the keyword **factor()**"
   ]
  },
  {
   "cell_type": "code",
   "execution_count": 22,
   "metadata": {},
   "outputs": [
    {
     "name": "stdout",
     "output_type": "stream",
     "text": [
      "[1] male   male   female male   female\n",
      "Levels: female male\n",
      "[1] \"factor\"\n",
      "[1] \"integer\"\n"
     ]
    }
   ],
   "source": [
    "x <- factor(c(\"male\", \"male\", \"female\", \"male\", \"female\"))\n",
    "print(x)\n",
    "print(class(x))\n",
    "print(typeof(x))"
   ]
  },
  {
   "cell_type": "markdown",
   "metadata": {},
   "source": [
    "## Subsetting R Objects"
   ]
  },
  {
   "cell_type": "code",
   "execution_count": 25,
   "metadata": {},
   "outputs": [
    {
     "name": "stdout",
     "output_type": "stream",
     "text": [
      "[1] \"a\"\n",
      "[1] \"b\" \"c\"\n",
      "[1] \"a\" \"d\" \"b\"\n",
      "[1] \"b\" \"c\" \"d\" \"e\"\n"
     ]
    }
   ],
   "source": [
    "# Subsetting a vector\n",
    "x <- c(\"a\", \"b\", \"c\", \"d\", \"e\")\n",
    "print(x[1])\n",
    "print(x[2:3])\n",
    "print(x[c(1,4,2)])\n",
    "print(x[x > \"a\"])"
   ]
  },
  {
   "cell_type": "code",
   "execution_count": 29,
   "metadata": {},
   "outputs": [
    {
     "name": "stdout",
     "output_type": "stream",
     "text": [
      "     [,1] [,2] [,3]\n",
      "[1,]    1    3    5\n",
      "[2,]    2    4    6\n",
      "[1] 3\n",
      "     [,1]\n",
      "[1,]    3\n"
     ]
    }
   ],
   "source": [
    "# Subsetting a matrix\n",
    "x <- matrix(1:6, 2, 3)\n",
    "print(x)\n",
    "print(x[1,2])\n",
    "# If you set the drop value to FALSE the it retains the dimension\n",
    "print(x[1,2, drop=FALSE])"
   ]
  },
  {
   "cell_type": "code",
   "execution_count": 32,
   "metadata": {},
   "outputs": [
    {
     "name": "stdout",
     "output_type": "stream",
     "text": [
      "$foo\n",
      "[1] 1 2 3 4\n",
      "\n",
      "$bar\n",
      "[1] 0.6\n",
      "\n",
      "[1] 1 2 3 4\n",
      "[1] 0.6\n",
      "[1] 0.6\n",
      "$foo\n",
      "[1] 1 2 3 4\n",
      "\n",
      "$baz\n",
      "[1] \"hello\"\n",
      "\n"
     ]
    }
   ],
   "source": [
    "# Subsetting lists\n",
    "x <- list(foo = 1:4, bar = 0.6)\n",
    "print(x)\n",
    "print(x[[1]])\n",
    "print(x[[\"bar\"]])\n",
    "print(x$bar)\n",
    "\n",
    "# extracting multiple elements from a list\n",
    "y <- list(foo = 1:4, bar = 20:29, baz=\"hello\") # Returns a list whereas [[ ]] returns item. b\n",
    "print(y[c(1,3)])"
   ]
  },
  {
   "cell_type": "markdown",
   "metadata": {},
   "source": [
    "## Vectorized Operations"
   ]
  },
  {
   "cell_type": "code",
   "execution_count": 34,
   "metadata": {},
   "outputs": [
    {
     "data": {
      "text/html": [
       "<ol class=list-inline>\n",
       "\t<li>7</li>\n",
       "\t<li>9</li>\n",
       "\t<li>11</li>\n",
       "\t<li>13</li>\n",
       "</ol>\n"
      ],
      "text/latex": [
       "\\begin{enumerate*}\n",
       "\\item 7\n",
       "\\item 9\n",
       "\\item 11\n",
       "\\item 13\n",
       "\\end{enumerate*}\n"
      ],
      "text/markdown": [
       "1. 7\n",
       "2. 9\n",
       "3. 11\n",
       "4. 13\n",
       "\n",
       "\n"
      ],
      "text/plain": [
       "[1]  7  9 11 13"
      ]
     },
     "metadata": {},
     "output_type": "display_data"
    }
   ],
   "source": [
    "x <- 1:4\n",
    "y <- 6:9\n",
    "z <- x + y\n",
    "z"
   ]
  },
  {
   "cell_type": "code",
   "execution_count": 36,
   "metadata": {},
   "outputs": [
    {
     "name": "stdout",
     "output_type": "stream",
     "text": [
      "     [,1] [,2]\n",
      "[1,]   10   30\n",
      "[2,]   20   40\n",
      "     [,1] [,2]\n",
      "[1,]  0.1  0.3\n",
      "[2,]  0.2  0.4\n",
      "     [,1] [,2]\n",
      "[1,]   40   40\n",
      "[2,]   60   60\n"
     ]
    }
   ],
   "source": [
    "x <- matrix(1:4, 2, 2)\n",
    "y <- matrix(rep(10,4), 2, 2)\n",
    "print(x * y)\n",
    "print(x / y)\n",
    "print(x %*% y)"
   ]
  },
  {
   "cell_type": "markdown",
   "metadata": {},
   "source": [
    "# Dates and Times"
   ]
  },
  {
   "cell_type": "markdown",
   "metadata": {},
   "source": [
    "Dates are stored internally as the number of days since 1970/01/01 and time as number of seconds since 1970/01/01. Dates are represented by the *Date* class and can be coerced from a character string using **as.Date()** function. Internal representation of the Date object can be seen using the function **unclass**."
   ]
  },
  {
   "cell_type": "code",
   "execution_count": 40,
   "metadata": {},
   "outputs": [
    {
     "data": {
      "text/html": [
       "<time datetime=\"1970-01-10\">1970-01-10</time>"
      ],
      "text/latex": [
       "1970-01-10"
      ],
      "text/markdown": [
       "1970-01-10"
      ],
      "text/plain": [
       "[1] \"1970-01-10\""
      ]
     },
     "metadata": {},
     "output_type": "display_data"
    }
   ],
   "source": [
    "x <- as.Date(\"1970/01/10\")\n",
    "x"
   ]
  },
  {
   "cell_type": "code",
   "execution_count": 41,
   "metadata": {},
   "outputs": [
    {
     "data": {
      "text/html": [
       "9"
      ],
      "text/latex": [
       "9"
      ],
      "text/markdown": [
       "9"
      ],
      "text/plain": [
       "[1] 9"
      ]
     },
     "metadata": {},
     "output_type": "display_data"
    }
   ],
   "source": [
    "unclass(x)"
   ]
  },
  {
   "cell_type": "markdown",
   "metadata": {},
   "source": [
    "Times are represented by **POSIXlt** and **POSIXct**\n",
    "* POSIXlt - a list of information like day of the week, day etc\n",
    "* POSIXct - a large number"
   ]
  },
  {
   "cell_type": "code",
   "execution_count": 42,
   "metadata": {},
   "outputs": [
    {
     "data": {
      "text/plain": [
       "[1] \"2019-10-30 21:52:27 CET\""
      ]
     },
     "metadata": {},
     "output_type": "display_data"
    }
   ],
   "source": [
    "x <- Sys.time()\n",
    "x"
   ]
  },
  {
   "cell_type": "code",
   "execution_count": 43,
   "metadata": {},
   "outputs": [
    {
     "data": {
      "text/plain": [
       "[1] \"2019-10-30 21:52:27 CET\""
      ]
     },
     "metadata": {},
     "output_type": "display_data"
    }
   ],
   "source": [
    "p <- as.POSIXlt(x)\n",
    "p"
   ]
  },
  {
   "cell_type": "code",
   "execution_count": 44,
   "metadata": {},
   "outputs": [
    {
     "data": {
      "text/html": [
       "<dl>\n",
       "\t<dt>$sec</dt>\n",
       "\t\t<dd>27.4375081062317</dd>\n",
       "\t<dt>$min</dt>\n",
       "\t\t<dd>52</dd>\n",
       "\t<dt>$hour</dt>\n",
       "\t\t<dd>21</dd>\n",
       "\t<dt>$mday</dt>\n",
       "\t\t<dd>30</dd>\n",
       "\t<dt>$mon</dt>\n",
       "\t\t<dd>9</dd>\n",
       "\t<dt>$year</dt>\n",
       "\t\t<dd>119</dd>\n",
       "\t<dt>$wday</dt>\n",
       "\t\t<dd>3</dd>\n",
       "\t<dt>$yday</dt>\n",
       "\t\t<dd>302</dd>\n",
       "\t<dt>$isdst</dt>\n",
       "\t\t<dd>0</dd>\n",
       "\t<dt>$zone</dt>\n",
       "\t\t<dd>'CET'</dd>\n",
       "\t<dt>$gmtoff</dt>\n",
       "\t\t<dd>3600</dd>\n",
       "</dl>\n"
      ],
      "text/latex": [
       "\\begin{description}\n",
       "\\item[\\$sec] 27.4375081062317\n",
       "\\item[\\$min] 52\n",
       "\\item[\\$hour] 21\n",
       "\\item[\\$mday] 30\n",
       "\\item[\\$mon] 9\n",
       "\\item[\\$year] 119\n",
       "\\item[\\$wday] 3\n",
       "\\item[\\$yday] 302\n",
       "\\item[\\$isdst] 0\n",
       "\\item[\\$zone] 'CET'\n",
       "\\item[\\$gmtoff] 3600\n",
       "\\end{description}\n"
      ],
      "text/markdown": [
       "$sec\n",
       ":   27.4375081062317\n",
       "$min\n",
       ":   52\n",
       "$hour\n",
       ":   21\n",
       "$mday\n",
       ":   30\n",
       "$mon\n",
       ":   9\n",
       "$year\n",
       ":   119\n",
       "$wday\n",
       ":   3\n",
       "$yday\n",
       ":   302\n",
       "$isdst\n",
       ":   0\n",
       "$zone\n",
       ":   'CET'\n",
       "$gmtoff\n",
       ":   3600\n",
       "\n",
       "\n"
      ],
      "text/plain": [
       "$sec\n",
       "[1] 27.43751\n",
       "\n",
       "$min\n",
       "[1] 52\n",
       "\n",
       "$hour\n",
       "[1] 21\n",
       "\n",
       "$mday\n",
       "[1] 30\n",
       "\n",
       "$mon\n",
       "[1] 9\n",
       "\n",
       "$year\n",
       "[1] 119\n",
       "\n",
       "$wday\n",
       "[1] 3\n",
       "\n",
       "$yday\n",
       "[1] 302\n",
       "\n",
       "$isdst\n",
       "[1] 0\n",
       "\n",
       "$zone\n",
       "[1] \"CET\"\n",
       "\n",
       "$gmtoff\n",
       "[1] 3600\n",
       "\n",
       "attr(,\"tzone\")\n",
       "[1] \"\"     \"CET\"  \"CEST\""
      ]
     },
     "metadata": {},
     "output_type": "display_data"
    }
   ],
   "source": [
    "unclass(p)"
   ]
  },
  {
   "cell_type": "code",
   "execution_count": 45,
   "metadata": {},
   "outputs": [
    {
     "data": {
      "text/html": [
       "1572468747.43751"
      ],
      "text/latex": [
       "1572468747.43751"
      ],
      "text/markdown": [
       "1572468747.43751"
      ],
      "text/plain": [
       "[1] 1572468747"
      ]
     },
     "metadata": {},
     "output_type": "display_data"
    }
   ],
   "source": [
    "unclass(x)"
   ]
  },
  {
   "cell_type": "code",
   "execution_count": 48,
   "metadata": {},
   "outputs": [
    {
     "data": {
      "text/html": [
       "30"
      ],
      "text/latex": [
       "30"
      ],
      "text/markdown": [
       "30"
      ],
      "text/plain": [
       "[1] 30"
      ]
     },
     "metadata": {},
     "output_type": "display_data"
    }
   ],
   "source": [
    "p$mday"
   ]
  },
  {
   "cell_type": "markdown",
   "metadata": {},
   "source": [
    "And for custom formatted time and date strings one can use the **strptime** function. "
   ]
  },
  {
   "cell_type": "code",
   "execution_count": 49,
   "metadata": {},
   "outputs": [
    {
     "data": {
      "text/plain": [
       "[1] \"2012-01-10 10:40:00 CET\""
      ]
     },
     "metadata": {},
     "output_type": "display_data"
    }
   ],
   "source": [
    "datestring <- c(\"January 10, 2012 10:40\")\n",
    "x <- strptime(datestring, \"%B %d, %Y %H:%M\")\n",
    "x"
   ]
  },
  {
   "cell_type": "markdown",
   "metadata": {},
   "source": [
    "### Operations on Dates and Times"
   ]
  },
  {
   "cell_type": "markdown",
   "metadata": {},
   "source": [
    "Arithematic operations like + and - are allowed.\n",
    "Comparision operations like == and <= are also allowed. "
   ]
  },
  {
   "cell_type": "code",
   "execution_count": 51,
   "metadata": {},
   "outputs": [
    {
     "data": {
      "text/plain": [
       "Time difference of 3.06676 secs"
      ]
     },
     "metadata": {},
     "output_type": "display_data"
    }
   ],
   "source": [
    "x1 <- Sys.time()\n",
    "Sys.sleep(3) # Sleep for 3 seconds.\n",
    "x2 <- Sys.time()\n",
    "x2 - x1"
   ]
  },
  {
   "cell_type": "code",
   "execution_count": 52,
   "metadata": {},
   "outputs": [
    {
     "data": {
      "text/plain": [
       "Time difference of 2712 days"
      ]
     },
     "metadata": {},
     "output_type": "display_data"
    }
   ],
   "source": [
    "x1 <- as.Date(\"2012-03-01\")\n",
    "x2 <- as.Date(\"2019-08-04\")\n",
    "x2 - x1"
   ]
  },
  {
   "cell_type": "markdown",
   "metadata": {},
   "source": [
    "## Manageing Data Frames with the dplyr package"
   ]
  },
  {
   "cell_type": "markdown",
   "metadata": {},
   "source": [
    "## Functions\n",
    "\n",
    "* Functions are first class objects in R\n",
    "* Functions can be passed as arguments to other functions.\n",
    "* Functions can be nested. "
   ]
  },
  {
   "cell_type": "markdown",
   "metadata": {},
   "source": [
    "## Loop Functions"
   ]
  },
  {
   "cell_type": "markdown",
   "metadata": {},
   "source": [
    "### lapply()\n",
    "Loops over a list and evaluate a function on each element. "
   ]
  },
  {
   "cell_type": "code",
   "execution_count": 1,
   "metadata": {},
   "outputs": [
    {
     "data": {
      "text/html": [
       "<dl>\n",
       "\t<dt>$a</dt>\n",
       "\t\t<dd><ol class=list-inline>\n",
       "\t<li>1</li>\n",
       "\t<li>2</li>\n",
       "\t<li>3</li>\n",
       "\t<li>4</li>\n",
       "\t<li>5</li>\n",
       "</ol>\n",
       "</dd>\n",
       "\t<dt>$b</dt>\n",
       "\t\t<dd><ol class=list-inline>\n",
       "\t<li>0.333992534482513</li>\n",
       "\t<li>0.705464544561907</li>\n",
       "\t<li>1.19412933900681</li>\n",
       "\t<li>0.897660655058506</li>\n",
       "\t<li>-0.338197142113429</li>\n",
       "\t<li>1.58730456181839</li>\n",
       "\t<li>-0.0027191176532581</li>\n",
       "\t<li>4.01070904852902</li>\n",
       "\t<li>-1.00696930181645</li>\n",
       "\t<li>-1.71694908357432</li>\n",
       "</ol>\n",
       "</dd>\n",
       "</dl>\n"
      ],
      "text/latex": [
       "\\begin{description}\n",
       "\\item[\\$a] \\begin{enumerate*}\n",
       "\\item 1\n",
       "\\item 2\n",
       "\\item 3\n",
       "\\item 4\n",
       "\\item 5\n",
       "\\end{enumerate*}\n",
       "\n",
       "\\item[\\$b] \\begin{enumerate*}\n",
       "\\item 0.333992534482513\n",
       "\\item 0.705464544561907\n",
       "\\item 1.19412933900681\n",
       "\\item 0.897660655058506\n",
       "\\item -0.338197142113429\n",
       "\\item 1.58730456181839\n",
       "\\item -0.0027191176532581\n",
       "\\item 4.01070904852902\n",
       "\\item -1.00696930181645\n",
       "\\item -1.71694908357432\n",
       "\\end{enumerate*}\n",
       "\n",
       "\\end{description}\n"
      ],
      "text/markdown": [
       "$a\n",
       ":   1. 1\n",
       "2. 2\n",
       "3. 3\n",
       "4. 4\n",
       "5. 5\n",
       "\n",
       "\n",
       "\n",
       "$b\n",
       ":   1. 0.333992534482513\n",
       "2. 0.705464544561907\n",
       "3. 1.19412933900681\n",
       "4. 0.897660655058506\n",
       "5. -0.338197142113429\n",
       "6. 1.58730456181839\n",
       "7. -0.0027191176532581\n",
       "8. 4.01070904852902\n",
       "9. -1.00696930181645\n",
       "10. -1.71694908357432\n",
       "\n",
       "\n",
       "\n",
       "\n",
       "\n"
      ],
      "text/plain": [
       "$a\n",
       "[1] 1 2 3 4 5\n",
       "\n",
       "$b\n",
       " [1]  0.333992534  0.705464545  1.194129339  0.897660655 -0.338197142\n",
       " [6]  1.587304562 -0.002719118  4.010709049 -1.006969302 -1.716949084\n"
      ]
     },
     "metadata": {},
     "output_type": "display_data"
    }
   ],
   "source": [
    "x <- list(a = 1:5, b = rnorm(10))\n",
    "x"
   ]
  },
  {
   "cell_type": "code",
   "execution_count": 2,
   "metadata": {},
   "outputs": [
    {
     "data": {
      "text/html": [
       "<dl>\n",
       "\t<dt>$a</dt>\n",
       "\t\t<dd>3</dd>\n",
       "\t<dt>$b</dt>\n",
       "\t\t<dd>0.566442603829969</dd>\n",
       "</dl>\n"
      ],
      "text/latex": [
       "\\begin{description}\n",
       "\\item[\\$a] 3\n",
       "\\item[\\$b] 0.566442603829969\n",
       "\\end{description}\n"
      ],
      "text/markdown": [
       "$a\n",
       ":   3\n",
       "$b\n",
       ":   0.566442603829969\n",
       "\n",
       "\n"
      ],
      "text/plain": [
       "$a\n",
       "[1] 3\n",
       "\n",
       "$b\n",
       "[1] 0.5664426\n"
      ]
     },
     "metadata": {},
     "output_type": "display_data"
    }
   ],
   "source": [
    "lapply(x, mean)"
   ]
  },
  {
   "cell_type": "markdown",
   "metadata": {},
   "source": [
    "How to pass arguments to the function "
   ]
  },
  {
   "cell_type": "code",
   "execution_count": 4,
   "metadata": {},
   "outputs": [
    {
     "name": "stdout",
     "output_type": "stream",
     "text": [
      "[1] 1 2 3 4\n"
     ]
    },
    {
     "data": {
      "text/html": [
       "<ol>\n",
       "\t<li>0.853606056421995</li>\n",
       "\t<li><ol class=list-inline>\n",
       "\t<li>3.26256968546659</li>\n",
       "\t<li>2.1631114622578</li>\n",
       "</ol>\n",
       "</li>\n",
       "\t<li><ol class=list-inline>\n",
       "\t<li>1.8063058136031</li>\n",
       "\t<li>0.967830486595631</li>\n",
       "\t<li>0.549360560253263</li>\n",
       "</ol>\n",
       "</li>\n",
       "\t<li><ol class=list-inline>\n",
       "\t<li>0.740578524768353</li>\n",
       "\t<li>2.963468096219</li>\n",
       "\t<li>0.291756795719266</li>\n",
       "\t<li>0.670440761372447</li>\n",
       "</ol>\n",
       "</li>\n",
       "</ol>\n"
      ],
      "text/latex": [
       "\\begin{enumerate}\n",
       "\\item 0.853606056421995\n",
       "\\item \\begin{enumerate*}\n",
       "\\item 3.26256968546659\n",
       "\\item 2.1631114622578\n",
       "\\end{enumerate*}\n",
       "\n",
       "\\item \\begin{enumerate*}\n",
       "\\item 1.8063058136031\n",
       "\\item 0.967830486595631\n",
       "\\item 0.549360560253263\n",
       "\\end{enumerate*}\n",
       "\n",
       "\\item \\begin{enumerate*}\n",
       "\\item 0.740578524768353\n",
       "\\item 2.963468096219\n",
       "\\item 0.291756795719266\n",
       "\\item 0.670440761372447\n",
       "\\end{enumerate*}\n",
       "\n",
       "\\end{enumerate}\n"
      ],
      "text/markdown": [
       "1. 0.853606056421995\n",
       "2. 1. 3.26256968546659\n",
       "2. 2.1631114622578\n",
       "\n",
       "\n",
       "\n",
       "3. 1. 1.8063058136031\n",
       "2. 0.967830486595631\n",
       "3. 0.549360560253263\n",
       "\n",
       "\n",
       "\n",
       "4. 1. 0.740578524768353\n",
       "2. 2.963468096219\n",
       "3. 0.291756795719266\n",
       "4. 0.670440761372447\n",
       "\n",
       "\n",
       "\n",
       "\n",
       "\n"
      ],
      "text/plain": [
       "[[1]]\n",
       "[1] 0.8536061\n",
       "\n",
       "[[2]]\n",
       "[1] 3.262570 2.163111\n",
       "\n",
       "[[3]]\n",
       "[1] 1.8063058 0.9678305 0.5493606\n",
       "\n",
       "[[4]]\n",
       "[1] 0.7405785 2.9634681 0.2917568 0.6704408\n"
      ]
     },
     "metadata": {},
     "output_type": "display_data"
    }
   ],
   "source": [
    "x <- 1:4\n",
    "print(x)\n",
    "lapply(x, runif, min=0, max=4)"
   ]
  },
  {
   "cell_type": "markdown",
   "metadata": {},
   "source": [
    "### sapply()"
   ]
  },
  {
   "cell_type": "markdown",
   "metadata": {},
   "source": [
    "Difference between **lapply** and **sapply** is that **sapply** tries to simplify the output. \n",
    "* If the result is a list where every element is length 1, then a vector is returned\n",
    "* If the result is a list where every element is a vector of the same length (> 1), a matrix is\n",
    "returned.\n",
    "* If it can’t figure things out, a list is returned"
   ]
  },
  {
   "cell_type": "code",
   "execution_count": 2,
   "metadata": {},
   "outputs": [
    {
     "data": {
      "text/html": [
       "<dl>\n",
       "\t<dt>$a</dt>\n",
       "\t\t<dd><ol class=list-inline>\n",
       "\t<li>1</li>\n",
       "\t<li>2</li>\n",
       "\t<li>3</li>\n",
       "\t<li>4</li>\n",
       "</ol>\n",
       "</dd>\n",
       "\t<dt>$b</dt>\n",
       "\t\t<dd><ol class=list-inline>\n",
       "\t<li>0.545484453943768</li>\n",
       "\t<li>1.38832010033896</li>\n",
       "\t<li>0.517845392627283</li>\n",
       "\t<li>0.378101367261423</li>\n",
       "\t<li>-0.16291795613611</li>\n",
       "\t<li>0.837022324406466</li>\n",
       "\t<li>0.352826074406409</li>\n",
       "\t<li>-0.47707376512535</li>\n",
       "\t<li>-0.499977312845463</li>\n",
       "\t<li>-0.875425315268529</li>\n",
       "</ol>\n",
       "</dd>\n",
       "\t<dt>$c</dt>\n",
       "\t\t<dd><ol class=list-inline>\n",
       "\t<li>-0.250036662979218</li>\n",
       "\t<li>0.681235086697602</li>\n",
       "\t<li>2.00196914317153</li>\n",
       "\t<li>2.38865763618428</li>\n",
       "\t<li>1.6534414636533</li>\n",
       "\t<li>0.744661540275953</li>\n",
       "\t<li>1.90966860668581</li>\n",
       "\t<li>0.797871342791936</li>\n",
       "\t<li>2.90052866905754</li>\n",
       "\t<li>1.27464576442715</li>\n",
       "\t<li>2.92834780030705</li>\n",
       "\t<li>2.66794506028557</li>\n",
       "\t<li>0.00515368190274612</li>\n",
       "\t<li>0.343911106634119</li>\n",
       "\t<li>1.37524698270098</li>\n",
       "\t<li>1.9346952198355</li>\n",
       "\t<li>2.41596023771104</li>\n",
       "\t<li>-1.19783838004014</li>\n",
       "\t<li>1.30070713627946</li>\n",
       "\t<li>1.60284254894085</li>\n",
       "</ol>\n",
       "</dd>\n",
       "\t<dt>$d</dt>\n",
       "\t\t<dd><ol class=list-inline>\n",
       "\t<li>5.82673809684575</li>\n",
       "\t<li>7.77822960841626</li>\n",
       "\t<li>2.8737569097237</li>\n",
       "\t<li>4.57092144810713</li>\n",
       "\t<li>5.21610281680022</li>\n",
       "\t<li>4.49083531156574</li>\n",
       "\t<li>3.6638377656932</li>\n",
       "\t<li>3.16898414015209</li>\n",
       "\t<li>5.21273313918613</li>\n",
       "\t<li>5.60711893412252</li>\n",
       "\t<li>4.47953393300343</li>\n",
       "\t<li>4.71796300597293</li>\n",
       "\t<li>6.33929058475951</li>\n",
       "\t<li>5.20775759627137</li>\n",
       "\t<li>3.92594967966733</li>\n",
       "\t<li>6.91449724464791</li>\n",
       "\t<li>6.71477551884087</li>\n",
       "\t<li>4.92765857598808</li>\n",
       "\t<li>5.64785847359567</li>\n",
       "\t<li>5.01610260583956</li>\n",
       "\t<li>4.58207148059044</li>\n",
       "\t<li>4.62321031657091</li>\n",
       "\t<li>7.93933416585434</li>\n",
       "\t<li>5.68467463844429</li>\n",
       "\t<li>4.37488033585904</li>\n",
       "\t<li>4.86382570471847</li>\n",
       "\t<li>5.12212829878449</li>\n",
       "\t<li>4.68683098202496</li>\n",
       "\t<li>7.33758561309191</li>\n",
       "\t<li>6.5658705387275</li>\n",
       "\t<li>4.87420756682674</li>\n",
       "\t<li>5.18897961181172</li>\n",
       "\t<li>4.86350116931168</li>\n",
       "\t<li>3.86197950187608</li>\n",
       "\t<li>3.96184074138591</li>\n",
       "\t<li>4.12517186376053</li>\n",
       "\t<li>5.44779793540788</li>\n",
       "\t<li>5.40870514657492</li>\n",
       "\t<li>5.03769355490865</li>\n",
       "\t<li>5.97499643184039</li>\n",
       "\t<li>5.54704035635241</li>\n",
       "\t<li>5.42621188368601</li>\n",
       "\t<li>4.85136217476998</li>\n",
       "\t<li>5.06734220251558</li>\n",
       "\t<li>6.766097445834</li>\n",
       "\t<li>5.32911129070657</li>\n",
       "\t<li>4.92207508688034</li>\n",
       "\t<li>5.03739272022908</li>\n",
       "\t<li>5.42383573645417</li>\n",
       "\t<li>7.70133328817838</li>\n",
       "\t<li>3.715936044684</li>\n",
       "\t<li>5.51028333142065</li>\n",
       "\t<li>5.05209580783084</li>\n",
       "\t<li>3.26473581298073</li>\n",
       "\t<li>5.73788928469573</li>\n",
       "\t<li>5.6917703618991</li>\n",
       "\t<li>5.67505326860551</li>\n",
       "\t<li>3.13284105033383</li>\n",
       "\t<li>5.03509669229835</li>\n",
       "\t<li>3.9065117362744</li>\n",
       "\t<li>5.42769615835819</li>\n",
       "\t<li>6.54122724219812</li>\n",
       "\t<li>5.55567318665742</li>\n",
       "\t<li>3.8987990242904</li>\n",
       "\t<li>6.42586125590353</li>\n",
       "\t<li>6.10212525373026</li>\n",
       "\t<li>5.97124296239612</li>\n",
       "\t<li>4.31529025915894</li>\n",
       "\t<li>5.16856692181915</li>\n",
       "\t<li>5.73860694547434</li>\n",
       "\t<li>3.94038655205429</li>\n",
       "\t<li>5.87398765708103</li>\n",
       "\t<li>4.00574013759589</li>\n",
       "\t<li>5.25099560152105</li>\n",
       "\t<li>5.05910480625157</li>\n",
       "\t<li>5.89559240994844</li>\n",
       "\t<li>7.69315799375389</li>\n",
       "\t<li>6.02411573562425</li>\n",
       "\t<li>6.04872896973477</li>\n",
       "\t<li>5.58535071057025</li>\n",
       "\t<li>6.08541611686147</li>\n",
       "\t<li>4.90553992865239</li>\n",
       "\t<li>4.77651988610418</li>\n",
       "\t<li>3.84734578420287</li>\n",
       "\t<li>7.26515664360884</li>\n",
       "\t<li>5.95629345001519</li>\n",
       "\t<li>6.14274333517098</li>\n",
       "\t<li>3.58751198039507</li>\n",
       "\t<li>3.89508022895811</li>\n",
       "\t<li>6.10263033997449</li>\n",
       "\t<li>6.28904711932395</li>\n",
       "\t<li>4.85922466091969</li>\n",
       "\t<li>5.23005865730077</li>\n",
       "\t<li>5.90176820582244</li>\n",
       "\t<li>3.82229376426242</li>\n",
       "\t<li>5.7973927238749</li>\n",
       "\t<li>5.26039927159409</li>\n",
       "\t<li>5.70343440586227</li>\n",
       "\t<li>4.36030547490336</li>\n",
       "\t<li>4.94845083888738</li>\n",
       "</ol>\n",
       "</dd>\n",
       "</dl>\n"
      ],
      "text/latex": [
       "\\begin{description}\n",
       "\\item[\\$a] \\begin{enumerate*}\n",
       "\\item 1\n",
       "\\item 2\n",
       "\\item 3\n",
       "\\item 4\n",
       "\\end{enumerate*}\n",
       "\n",
       "\\item[\\$b] \\begin{enumerate*}\n",
       "\\item 0.545484453943768\n",
       "\\item 1.38832010033896\n",
       "\\item 0.517845392627283\n",
       "\\item 0.378101367261423\n",
       "\\item -0.16291795613611\n",
       "\\item 0.837022324406466\n",
       "\\item 0.352826074406409\n",
       "\\item -0.47707376512535\n",
       "\\item -0.499977312845463\n",
       "\\item -0.875425315268529\n",
       "\\end{enumerate*}\n",
       "\n",
       "\\item[\\$c] \\begin{enumerate*}\n",
       "\\item -0.250036662979218\n",
       "\\item 0.681235086697602\n",
       "\\item 2.00196914317153\n",
       "\\item 2.38865763618428\n",
       "\\item 1.6534414636533\n",
       "\\item 0.744661540275953\n",
       "\\item 1.90966860668581\n",
       "\\item 0.797871342791936\n",
       "\\item 2.90052866905754\n",
       "\\item 1.27464576442715\n",
       "\\item 2.92834780030705\n",
       "\\item 2.66794506028557\n",
       "\\item 0.00515368190274612\n",
       "\\item 0.343911106634119\n",
       "\\item 1.37524698270098\n",
       "\\item 1.9346952198355\n",
       "\\item 2.41596023771104\n",
       "\\item -1.19783838004014\n",
       "\\item 1.30070713627946\n",
       "\\item 1.60284254894085\n",
       "\\end{enumerate*}\n",
       "\n",
       "\\item[\\$d] \\begin{enumerate*}\n",
       "\\item 5.82673809684575\n",
       "\\item 7.77822960841626\n",
       "\\item 2.8737569097237\n",
       "\\item 4.57092144810713\n",
       "\\item 5.21610281680022\n",
       "\\item 4.49083531156574\n",
       "\\item 3.6638377656932\n",
       "\\item 3.16898414015209\n",
       "\\item 5.21273313918613\n",
       "\\item 5.60711893412252\n",
       "\\item 4.47953393300343\n",
       "\\item 4.71796300597293\n",
       "\\item 6.33929058475951\n",
       "\\item 5.20775759627137\n",
       "\\item 3.92594967966733\n",
       "\\item 6.91449724464791\n",
       "\\item 6.71477551884087\n",
       "\\item 4.92765857598808\n",
       "\\item 5.64785847359567\n",
       "\\item 5.01610260583956\n",
       "\\item 4.58207148059044\n",
       "\\item 4.62321031657091\n",
       "\\item 7.93933416585434\n",
       "\\item 5.68467463844429\n",
       "\\item 4.37488033585904\n",
       "\\item 4.86382570471847\n",
       "\\item 5.12212829878449\n",
       "\\item 4.68683098202496\n",
       "\\item 7.33758561309191\n",
       "\\item 6.5658705387275\n",
       "\\item 4.87420756682674\n",
       "\\item 5.18897961181172\n",
       "\\item 4.86350116931168\n",
       "\\item 3.86197950187608\n",
       "\\item 3.96184074138591\n",
       "\\item 4.12517186376053\n",
       "\\item 5.44779793540788\n",
       "\\item 5.40870514657492\n",
       "\\item 5.03769355490865\n",
       "\\item 5.97499643184039\n",
       "\\item 5.54704035635241\n",
       "\\item 5.42621188368601\n",
       "\\item 4.85136217476998\n",
       "\\item 5.06734220251558\n",
       "\\item 6.766097445834\n",
       "\\item 5.32911129070657\n",
       "\\item 4.92207508688034\n",
       "\\item 5.03739272022908\n",
       "\\item 5.42383573645417\n",
       "\\item 7.70133328817838\n",
       "\\item 3.715936044684\n",
       "\\item 5.51028333142065\n",
       "\\item 5.05209580783084\n",
       "\\item 3.26473581298073\n",
       "\\item 5.73788928469573\n",
       "\\item 5.6917703618991\n",
       "\\item 5.67505326860551\n",
       "\\item 3.13284105033383\n",
       "\\item 5.03509669229835\n",
       "\\item 3.9065117362744\n",
       "\\item 5.42769615835819\n",
       "\\item 6.54122724219812\n",
       "\\item 5.55567318665742\n",
       "\\item 3.8987990242904\n",
       "\\item 6.42586125590353\n",
       "\\item 6.10212525373026\n",
       "\\item 5.97124296239612\n",
       "\\item 4.31529025915894\n",
       "\\item 5.16856692181915\n",
       "\\item 5.73860694547434\n",
       "\\item 3.94038655205429\n",
       "\\item 5.87398765708103\n",
       "\\item 4.00574013759589\n",
       "\\item 5.25099560152105\n",
       "\\item 5.05910480625157\n",
       "\\item 5.89559240994844\n",
       "\\item 7.69315799375389\n",
       "\\item 6.02411573562425\n",
       "\\item 6.04872896973477\n",
       "\\item 5.58535071057025\n",
       "\\item 6.08541611686147\n",
       "\\item 4.90553992865239\n",
       "\\item 4.77651988610418\n",
       "\\item 3.84734578420287\n",
       "\\item 7.26515664360884\n",
       "\\item 5.95629345001519\n",
       "\\item 6.14274333517098\n",
       "\\item 3.58751198039507\n",
       "\\item 3.89508022895811\n",
       "\\item 6.10263033997449\n",
       "\\item 6.28904711932395\n",
       "\\item 4.85922466091969\n",
       "\\item 5.23005865730077\n",
       "\\item 5.90176820582244\n",
       "\\item 3.82229376426242\n",
       "\\item 5.7973927238749\n",
       "\\item 5.26039927159409\n",
       "\\item 5.70343440586227\n",
       "\\item 4.36030547490336\n",
       "\\item 4.94845083888738\n",
       "\\end{enumerate*}\n",
       "\n",
       "\\end{description}\n"
      ],
      "text/markdown": [
       "$a\n",
       ":   1. 1\n",
       "2. 2\n",
       "3. 3\n",
       "4. 4\n",
       "\n",
       "\n",
       "\n",
       "$b\n",
       ":   1. 0.545484453943768\n",
       "2. 1.38832010033896\n",
       "3. 0.517845392627283\n",
       "4. 0.378101367261423\n",
       "5. -0.16291795613611\n",
       "6. 0.837022324406466\n",
       "7. 0.352826074406409\n",
       "8. -0.47707376512535\n",
       "9. -0.499977312845463\n",
       "10. -0.875425315268529\n",
       "\n",
       "\n",
       "\n",
       "$c\n",
       ":   1. -0.250036662979218\n",
       "2. 0.681235086697602\n",
       "3. 2.00196914317153\n",
       "4. 2.38865763618428\n",
       "5. 1.6534414636533\n",
       "6. 0.744661540275953\n",
       "7. 1.90966860668581\n",
       "8. 0.797871342791936\n",
       "9. 2.90052866905754\n",
       "10. 1.27464576442715\n",
       "11. 2.92834780030705\n",
       "12. 2.66794506028557\n",
       "13. 0.00515368190274612\n",
       "14. 0.343911106634119\n",
       "15. 1.37524698270098\n",
       "16. 1.9346952198355\n",
       "17. 2.41596023771104\n",
       "18. -1.19783838004014\n",
       "19. 1.30070713627946\n",
       "20. 1.60284254894085\n",
       "\n",
       "\n",
       "\n",
       "$d\n",
       ":   1. 5.82673809684575\n",
       "2. 7.77822960841626\n",
       "3. 2.8737569097237\n",
       "4. 4.57092144810713\n",
       "5. 5.21610281680022\n",
       "6. 4.49083531156574\n",
       "7. 3.6638377656932\n",
       "8. 3.16898414015209\n",
       "9. 5.21273313918613\n",
       "10. 5.60711893412252\n",
       "11. 4.47953393300343\n",
       "12. 4.71796300597293\n",
       "13. 6.33929058475951\n",
       "14. 5.20775759627137\n",
       "15. 3.92594967966733\n",
       "16. 6.91449724464791\n",
       "17. 6.71477551884087\n",
       "18. 4.92765857598808\n",
       "19. 5.64785847359567\n",
       "20. 5.01610260583956\n",
       "21. 4.58207148059044\n",
       "22. 4.62321031657091\n",
       "23. 7.93933416585434\n",
       "24. 5.68467463844429\n",
       "25. 4.37488033585904\n",
       "26. 4.86382570471847\n",
       "27. 5.12212829878449\n",
       "28. 4.68683098202496\n",
       "29. 7.33758561309191\n",
       "30. 6.5658705387275\n",
       "31. 4.87420756682674\n",
       "32. 5.18897961181172\n",
       "33. 4.86350116931168\n",
       "34. 3.86197950187608\n",
       "35. 3.96184074138591\n",
       "36. 4.12517186376053\n",
       "37. 5.44779793540788\n",
       "38. 5.40870514657492\n",
       "39. 5.03769355490865\n",
       "40. 5.97499643184039\n",
       "41. 5.54704035635241\n",
       "42. 5.42621188368601\n",
       "43. 4.85136217476998\n",
       "44. 5.06734220251558\n",
       "45. 6.766097445834\n",
       "46. 5.32911129070657\n",
       "47. 4.92207508688034\n",
       "48. 5.03739272022908\n",
       "49. 5.42383573645417\n",
       "50. 7.70133328817838\n",
       "51. 3.715936044684\n",
       "52. 5.51028333142065\n",
       "53. 5.05209580783084\n",
       "54. 3.26473581298073\n",
       "55. 5.73788928469573\n",
       "56. 5.6917703618991\n",
       "57. 5.67505326860551\n",
       "58. 3.13284105033383\n",
       "59. 5.03509669229835\n",
       "60. 3.9065117362744\n",
       "61. 5.42769615835819\n",
       "62. 6.54122724219812\n",
       "63. 5.55567318665742\n",
       "64. 3.8987990242904\n",
       "65. 6.42586125590353\n",
       "66. 6.10212525373026\n",
       "67. 5.97124296239612\n",
       "68. 4.31529025915894\n",
       "69. 5.16856692181915\n",
       "70. 5.73860694547434\n",
       "71. 3.94038655205429\n",
       "72. 5.87398765708103\n",
       "73. 4.00574013759589\n",
       "74. 5.25099560152105\n",
       "75. 5.05910480625157\n",
       "76. 5.89559240994844\n",
       "77. 7.69315799375389\n",
       "78. 6.02411573562425\n",
       "79. 6.04872896973477\n",
       "80. 5.58535071057025\n",
       "81. 6.08541611686147\n",
       "82. 4.90553992865239\n",
       "83. 4.77651988610418\n",
       "84. 3.84734578420287\n",
       "85. 7.26515664360884\n",
       "86. 5.95629345001519\n",
       "87. 6.14274333517098\n",
       "88. 3.58751198039507\n",
       "89. 3.89508022895811\n",
       "90. 6.10263033997449\n",
       "91. 6.28904711932395\n",
       "92. 4.85922466091969\n",
       "93. 5.23005865730077\n",
       "94. 5.90176820582244\n",
       "95. 3.82229376426242\n",
       "96. 5.7973927238749\n",
       "97. 5.26039927159409\n",
       "98. 5.70343440586227\n",
       "99. 4.36030547490336\n",
       "100. 4.94845083888738\n",
       "\n",
       "\n",
       "\n",
       "\n",
       "\n"
      ],
      "text/plain": [
       "$a\n",
       "[1] 1 2 3 4\n",
       "\n",
       "$b\n",
       " [1]  0.5454845  1.3883201  0.5178454  0.3781014 -0.1629180  0.8370223\n",
       " [7]  0.3528261 -0.4770738 -0.4999773 -0.8754253\n",
       "\n",
       "$c\n",
       " [1] -0.250036663  0.681235087  2.001969143  2.388657636  1.653441464\n",
       " [6]  0.744661540  1.909668607  0.797871343  2.900528669  1.274645764\n",
       "[11]  2.928347800  2.667945060  0.005153682  0.343911107  1.375246983\n",
       "[16]  1.934695220  2.415960238 -1.197838380  1.300707136  1.602842549\n",
       "\n",
       "$d\n",
       "  [1] 5.826738 7.778230 2.873757 4.570921 5.216103 4.490835 3.663838 3.168984\n",
       "  [9] 5.212733 5.607119 4.479534 4.717963 6.339291 5.207758 3.925950 6.914497\n",
       " [17] 6.714776 4.927659 5.647858 5.016103 4.582071 4.623210 7.939334 5.684675\n",
       " [25] 4.374880 4.863826 5.122128 4.686831 7.337586 6.565871 4.874208 5.188980\n",
       " [33] 4.863501 3.861980 3.961841 4.125172 5.447798 5.408705 5.037694 5.974996\n",
       " [41] 5.547040 5.426212 4.851362 5.067342 6.766097 5.329111 4.922075 5.037393\n",
       " [49] 5.423836 7.701333 3.715936 5.510283 5.052096 3.264736 5.737889 5.691770\n",
       " [57] 5.675053 3.132841 5.035097 3.906512 5.427696 6.541227 5.555673 3.898799\n",
       " [65] 6.425861 6.102125 5.971243 4.315290 5.168567 5.738607 3.940387 5.873988\n",
       " [73] 4.005740 5.250996 5.059105 5.895592 7.693158 6.024116 6.048729 5.585351\n",
       " [81] 6.085416 4.905540 4.776520 3.847346 7.265157 5.956293 6.142743 3.587512\n",
       " [89] 3.895080 6.102630 6.289047 4.859225 5.230059 5.901768 3.822294 5.797393\n",
       " [97] 5.260399 5.703434 4.360305 4.948451\n"
      ]
     },
     "metadata": {},
     "output_type": "display_data"
    }
   ],
   "source": [
    "x <- list(a = 1:4, b = rnorm(10), c = rnorm(20, 1), d = rnorm(100, 5))\n",
    "x"
   ]
  },
  {
   "cell_type": "code",
   "execution_count": 3,
   "metadata": {},
   "outputs": [
    {
     "data": {
      "text/html": [
       "<dl>\n",
       "\t<dt>$a</dt>\n",
       "\t\t<dd>2.5</dd>\n",
       "\t<dt>$b</dt>\n",
       "\t\t<dd>0.200420536360886</dd>\n",
       "\t<dt>$c</dt>\n",
       "\t\t<dd>1.37398069922615</dd>\n",
       "\t<dt>$d</dt>\n",
       "\t\t<dd>5.24878809165017</dd>\n",
       "</dl>\n"
      ],
      "text/latex": [
       "\\begin{description}\n",
       "\\item[\\$a] 2.5\n",
       "\\item[\\$b] 0.200420536360886\n",
       "\\item[\\$c] 1.37398069922615\n",
       "\\item[\\$d] 5.24878809165017\n",
       "\\end{description}\n"
      ],
      "text/markdown": [
       "$a\n",
       ":   2.5\n",
       "$b\n",
       ":   0.200420536360886\n",
       "$c\n",
       ":   1.37398069922615\n",
       "$d\n",
       ":   5.24878809165017\n",
       "\n",
       "\n"
      ],
      "text/plain": [
       "$a\n",
       "[1] 2.5\n",
       "\n",
       "$b\n",
       "[1] 0.2004205\n",
       "\n",
       "$c\n",
       "[1] 1.373981\n",
       "\n",
       "$d\n",
       "[1] 5.248788\n"
      ]
     },
     "metadata": {},
     "output_type": "display_data"
    }
   ],
   "source": [
    "lapply(x, mean)"
   ]
  },
  {
   "cell_type": "code",
   "execution_count": 8,
   "metadata": {},
   "outputs": [
    {
     "data": {
      "text/html": [
       "<dl class=dl-horizontal>\n",
       "\t<dt>a</dt>\n",
       "\t\t<dd>2.5</dd>\n",
       "\t<dt>b</dt>\n",
       "\t\t<dd>0.200420536360886</dd>\n",
       "\t<dt>c</dt>\n",
       "\t\t<dd>1.37398069922615</dd>\n",
       "\t<dt>d</dt>\n",
       "\t\t<dd>5.24878809165017</dd>\n",
       "</dl>\n"
      ],
      "text/latex": [
       "\\begin{description*}\n",
       "\\item[a] 2.5\n",
       "\\item[b] 0.200420536360886\n",
       "\\item[c] 1.37398069922615\n",
       "\\item[d] 5.24878809165017\n",
       "\\end{description*}\n"
      ],
      "text/markdown": [
       "a\n",
       ":   2.5b\n",
       ":   0.200420536360886c\n",
       ":   1.37398069922615d\n",
       ":   5.24878809165017\n",
       "\n"
      ],
      "text/plain": [
       "        a         b         c         d \n",
       "2.5000000 0.2004205 1.3739807 5.2487881 "
      ]
     },
     "metadata": {},
     "output_type": "display_data"
    }
   ],
   "source": [
    "res <- sapply(x, mean)\n",
    "res"
   ]
  },
  {
   "cell_type": "markdown",
   "metadata": {},
   "source": [
    "#### split()"
   ]
  },
  {
   "cell_type": "markdown",
   "metadata": {},
   "source": [
    "This function takes a vector or other objects and splits it into groups determined by a factor or list of factors. "
   ]
  },
  {
   "cell_type": "code",
   "execution_count": 4,
   "metadata": {},
   "outputs": [
    {
     "data": {
      "text/html": [
       "<dl>\n",
       "\t<dt>$`1`</dt>\n",
       "\t\t<dd>0.35862650346304</dd>\n",
       "\t<dt>$`2`</dt>\n",
       "\t\t<dd>0.536371489241719</dd>\n",
       "\t<dt>$`3`</dt>\n",
       "\t\t<dd>1.47458724302464</dd>\n",
       "</dl>\n"
      ],
      "text/latex": [
       "\\begin{description}\n",
       "\\item[\\$`1`] 0.35862650346304\n",
       "\\item[\\$`2`] 0.536371489241719\n",
       "\\item[\\$`3`] 1.47458724302464\n",
       "\\end{description}\n"
      ],
      "text/markdown": [
       "$`1`\n",
       ":   0.35862650346304\n",
       "$`2`\n",
       ":   0.536371489241719\n",
       "$`3`\n",
       ":   1.47458724302464\n",
       "\n",
       "\n"
      ],
      "text/plain": [
       "$`1`\n",
       "[1] 0.3586265\n",
       "\n",
       "$`2`\n",
       "[1] 0.5363715\n",
       "\n",
       "$`3`\n",
       "[1] 1.474587\n"
      ]
     },
     "metadata": {},
     "output_type": "display_data"
    }
   ],
   "source": [
    "x <- c(rnorm(10), runif(10), rnorm(10,1))\n",
    "f <- gl(3, 10)\n",
    "lapply(split(x,f), mean)"
   ]
  },
  {
   "cell_type": "code",
   "execution_count": null,
   "metadata": {},
   "outputs": [],
   "source": []
  }
 ],
 "metadata": {
  "kernelspec": {
   "display_name": "R",
   "language": "R",
   "name": "ir"
  },
  "language_info": {
   "codemirror_mode": "r",
   "file_extension": ".r",
   "mimetype": "text/x-r-source",
   "name": "R",
   "pygments_lexer": "r",
   "version": "3.5.3"
  }
 },
 "nbformat": 4,
 "nbformat_minor": 2
}

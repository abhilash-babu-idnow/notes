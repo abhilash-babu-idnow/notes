{
 "cells": [
  {
   "cell_type": "markdown",
   "metadata": {},
   "source": [
    "# Notes collected about R programming from various books."
   ]
  },
  {
   "cell_type": "markdown",
   "metadata": {},
   "source": [
    "R has five atomic types : **character, numeric, integer, complex and logical**.\n",
    "Most basic type in R is a **vector**, collection of homogeneous type. \n",
    "On the other hand **list** can contain items of different type.\n",
    "\n",
    "---\n",
    "\n",
    "#### Numbers\n",
    "Numbers are treated as double precision real number objects. If an integer is needed then that has to be specified explicitly using the letter *L*. Not a Number *NaN* and *Inf* are special numbers in R.\n",
    "\n",
    "---\n",
    "\n",
    "#### Attributes\n",
    "Attributes of the objects can be accessed using the function **attributes()**. example attributes of R objects are names, dimensions, class, length etc."
   ]
  },
  {
   "cell_type": "markdown",
   "metadata": {},
   "source": [
    "### Vectors"
   ]
  },
  {
   "cell_type": "code",
   "execution_count": 9,
   "metadata": {},
   "outputs": [],
   "source": [
    "x <- c(0.5, 0.6) # Numeric vector\n",
    "x <- c(TRUE, FALSE) # logical vector\n",
    "x <- c(\"a\", \"b\", \"c\") # character\n",
    "x <- 0:10 #integer\n",
    "x <- c(0+1i, 2+4i) # complex"
   ]
  },
  {
   "cell_type": "code",
   "execution_count": 10,
   "metadata": {},
   "outputs": [
    {
     "name": "stdout",
     "output_type": "stream",
     "text": [
      "[1] \"complex\"\n",
      "[1] \"complex\"\n"
     ]
    }
   ],
   "source": [
    "print(typeof(x))\n",
    "print(class(x))"
   ]
  },
  {
   "cell_type": "markdown",
   "metadata": {},
   "source": [
    "Mixing of the object types leads to coercion. R tries to coerce the types implicitly. One can also explicitly invoke coercion using the **as** functions.\n",
    "If R cannot coerce then it will result in NA"
   ]
  },
  {
   "cell_type": "code",
   "execution_count": 13,
   "metadata": {},
   "outputs": [
    {
     "name": "stdout",
     "output_type": "stream",
     "text": [
      "[1] \"character\"\n",
      "[1] \"character\"\n",
      "[1] \"integer\"\n",
      "[1] 0 1 2 3 4\n",
      "[1] FALSE  TRUE  TRUE  TRUE  TRUE\n"
     ]
    },
    {
     "name": "stderr",
     "output_type": "stream",
     "text": [
      "Warning message in print(as.numeric(x)):\n",
      "\"NAs introduced by coercion\""
     ]
    },
    {
     "name": "stdout",
     "output_type": "stream",
     "text": [
      "[1] NA NA NA\n"
     ]
    }
   ],
   "source": [
    "y <- c(\"a\", TRUE)\n",
    "print(class(y))\n",
    "\n",
    "y <- c(1.8, \"a\")\n",
    "print(class(y))\n",
    "\n",
    "x <- 0:4\n",
    "print(class(x))\n",
    "\n",
    "print(as.numeric(x))\n",
    "print(as.logical(x))\n",
    "\n",
    "x <- c(\"a\", \"b\", \"c\")\n",
    "print(as.numeric(x))"
   ]
  },
  {
   "cell_type": "markdown",
   "metadata": {},
   "source": [
    "### Matrices\n",
    "\n",
    "they are vectors with dimension attribute. \n",
    "matrices are created using the **matrix** keyword as shown below. "
   ]
  },
  {
   "cell_type": "code",
   "execution_count": 14,
   "metadata": {},
   "outputs": [
    {
     "data": {
      "text/html": [
       "<table>\n",
       "<caption>A matrix: 2 × 3 of type lgl</caption>\n",
       "<tbody>\n",
       "\t<tr><td>NA</td><td>NA</td><td>NA</td></tr>\n",
       "\t<tr><td>NA</td><td>NA</td><td>NA</td></tr>\n",
       "</tbody>\n",
       "</table>\n"
      ],
      "text/latex": [
       "A matrix: 2 × 3 of type lgl\n",
       "\\begin{tabular}{lll}\n",
       "\t NA & NA & NA\\\\\n",
       "\t NA & NA & NA\\\\\n",
       "\\end{tabular}\n"
      ],
      "text/markdown": [
       "\n",
       "A matrix: 2 × 3 of type lgl\n",
       "\n",
       "| NA | NA | NA |\n",
       "| NA | NA | NA |\n",
       "\n"
      ],
      "text/plain": [
       "     [,1] [,2] [,3]\n",
       "[1,] NA   NA   NA  \n",
       "[2,] NA   NA   NA  "
      ]
     },
     "metadata": {},
     "output_type": "display_data"
    }
   ],
   "source": [
    "m <- matrix(nrow=2, ncol=3)\n",
    "m"
   ]
  },
  {
   "cell_type": "code",
   "execution_count": 18,
   "metadata": {},
   "outputs": [
    {
     "name": "stdout",
     "output_type": "stream",
     "text": [
      "[1] 2 5\n",
      "$dim\n",
      "[1] 2 5\n",
      "\n",
      "     [,1] [,2] [,3]\n",
      "[1,]    1    3    5\n",
      "[2,]    2    4    6\n",
      "     [,1] [,2] [,3] [,4] [,5]\n",
      "[1,]    1    3    5    7    9\n",
      "[2,]    2    4    6    8   10\n",
      "   [,1] [,2] [,3] [,4] [,5]\n",
      "v1    1    2    3    4    5\n",
      "v2    2    3    4    5    6\n",
      "     v1 v2\n",
      "[1,]  1  2\n",
      "[2,]  2  3\n",
      "[3,]  3  4\n",
      "[4,]  4  5\n",
      "[5,]  5  6\n"
     ]
    }
   ],
   "source": [
    "# get the dimension of the matrix using dim function\n",
    "print(dim(m))\n",
    "\n",
    "# get the attributes of the matrix using attributes function\n",
    "print(attributes(m))\n",
    "\n",
    "# Matrices are created column wise. \n",
    "m <- matrix(1:6, nrow=2, ncol=3)\n",
    "print(m)\n",
    "\n",
    "# Converting vector to matrix\n",
    "m <- 1:10\n",
    "dim(m) <- c(2,5)\n",
    "print(m)\n",
    "\n",
    "# Multiple vectors can be converted to matrix using cbind to concatenate as columns\n",
    "# use rbind to concatenate them as rows. \n",
    "v1 <- 1:5\n",
    "v2 <- 2:6\n",
    "print(rbind(v1,v2))\n",
    "print(cbind(v1,v2))"
   ]
  },
  {
   "cell_type": "markdown",
   "metadata": {},
   "source": [
    "### Lists\n",
    "Can contain different types of items are are created using the **list** keyword."
   ]
  },
  {
   "cell_type": "code",
   "execution_count": 20,
   "metadata": {},
   "outputs": [
    {
     "name": "stdout",
     "output_type": "stream",
     "text": [
      "[[1]]\n",
      "[1] 1\n",
      "\n",
      "[[2]]\n",
      "[1] \"a\"\n",
      "\n",
      "[[3]]\n",
      "[1] TRUE\n",
      "\n",
      "[[4]]\n",
      "[1] 1+4i\n",
      "\n",
      "[1] \"list\"\n",
      "NULL\n",
      "[1] \"list\"\n",
      "[[1]]\n",
      "NULL\n",
      "\n",
      "[[2]]\n",
      "NULL\n",
      "\n",
      "[[3]]\n",
      "NULL\n",
      "\n",
      "[1] \"list\"\n"
     ]
    }
   ],
   "source": [
    "x <- list(1, \"a\", TRUE, 1+4i)\n",
    "print(x)\n",
    "print(class(x))\n",
    "print(attributes(x))\n",
    "print(typeof(x))\n",
    "\n",
    "# empty list\n",
    "x <- vector(\"list\", length=3)\n",
    "print(x)\n",
    "print(class(x))"
   ]
  },
  {
   "cell_type": "markdown",
   "metadata": {},
   "source": [
    "### Factors\n",
    "Represents categorical data. Like an integer vector where each integer has a label. for example gender \"male\" and \"female\"\n",
    "Can be created using the keyword **factor()**"
   ]
  },
  {
   "cell_type": "code",
   "execution_count": 22,
   "metadata": {},
   "outputs": [
    {
     "name": "stdout",
     "output_type": "stream",
     "text": [
      "[1] male   male   female male   female\n",
      "Levels: female male\n",
      "[1] \"factor\"\n",
      "[1] \"integer\"\n"
     ]
    }
   ],
   "source": [
    "x <- factor(c(\"male\", \"male\", \"female\", \"male\", \"female\"))\n",
    "print(x)\n",
    "print(class(x))\n",
    "print(typeof(x))"
   ]
  },
  {
   "cell_type": "markdown",
   "metadata": {},
   "source": [
    "## Subsetting R Objects"
   ]
  },
  {
   "cell_type": "code",
   "execution_count": 25,
   "metadata": {},
   "outputs": [
    {
     "name": "stdout",
     "output_type": "stream",
     "text": [
      "[1] \"a\"\n",
      "[1] \"b\" \"c\"\n",
      "[1] \"a\" \"d\" \"b\"\n",
      "[1] \"b\" \"c\" \"d\" \"e\"\n"
     ]
    }
   ],
   "source": [
    "# Subsetting a vector\n",
    "x <- c(\"a\", \"b\", \"c\", \"d\", \"e\")\n",
    "print(x[1])\n",
    "print(x[2:3])\n",
    "print(x[c(1,4,2)])\n",
    "print(x[x > \"a\"])"
   ]
  },
  {
   "cell_type": "code",
   "execution_count": 29,
   "metadata": {},
   "outputs": [
    {
     "name": "stdout",
     "output_type": "stream",
     "text": [
      "     [,1] [,2] [,3]\n",
      "[1,]    1    3    5\n",
      "[2,]    2    4    6\n",
      "[1] 3\n",
      "     [,1]\n",
      "[1,]    3\n"
     ]
    }
   ],
   "source": [
    "# Subsetting a matrix\n",
    "x <- matrix(1:6, 2, 3)\n",
    "print(x)\n",
    "print(x[1,2])\n",
    "# If you set the drop value to FALSE the it retains the dimension\n",
    "print(x[1,2, drop=FALSE])"
   ]
  },
  {
   "cell_type": "code",
   "execution_count": 32,
   "metadata": {},
   "outputs": [
    {
     "name": "stdout",
     "output_type": "stream",
     "text": [
      "$foo\n",
      "[1] 1 2 3 4\n",
      "\n",
      "$bar\n",
      "[1] 0.6\n",
      "\n",
      "[1] 1 2 3 4\n",
      "[1] 0.6\n",
      "[1] 0.6\n",
      "$foo\n",
      "[1] 1 2 3 4\n",
      "\n",
      "$baz\n",
      "[1] \"hello\"\n",
      "\n"
     ]
    }
   ],
   "source": [
    "# Subsetting lists\n",
    "x <- list(foo = 1:4, bar = 0.6)\n",
    "print(x)\n",
    "print(x[[1]])\n",
    "print(x[[\"bar\"]])\n",
    "print(x$bar)\n",
    "\n",
    "# extracting multiple elements from a list\n",
    "y <- list(foo = 1:4, bar = 20:29, baz=\"hello\") # Returns a list whereas [[ ]] returns item. b\n",
    "print(y[c(1,3)])"
   ]
  },
  {
   "cell_type": "markdown",
   "metadata": {},
   "source": [
    "## Vectorized Operations"
   ]
  },
  {
   "cell_type": "code",
   "execution_count": 34,
   "metadata": {},
   "outputs": [
    {
     "data": {
      "text/html": [
       "<ol class=list-inline>\n",
       "\t<li>7</li>\n",
       "\t<li>9</li>\n",
       "\t<li>11</li>\n",
       "\t<li>13</li>\n",
       "</ol>\n"
      ],
      "text/latex": [
       "\\begin{enumerate*}\n",
       "\\item 7\n",
       "\\item 9\n",
       "\\item 11\n",
       "\\item 13\n",
       "\\end{enumerate*}\n"
      ],
      "text/markdown": [
       "1. 7\n",
       "2. 9\n",
       "3. 11\n",
       "4. 13\n",
       "\n",
       "\n"
      ],
      "text/plain": [
       "[1]  7  9 11 13"
      ]
     },
     "metadata": {},
     "output_type": "display_data"
    }
   ],
   "source": [
    "x <- 1:4\n",
    "y <- 6:9\n",
    "z <- x + y\n",
    "z"
   ]
  },
  {
   "cell_type": "code",
   "execution_count": 36,
   "metadata": {},
   "outputs": [
    {
     "name": "stdout",
     "output_type": "stream",
     "text": [
      "     [,1] [,2]\n",
      "[1,]   10   30\n",
      "[2,]   20   40\n",
      "     [,1] [,2]\n",
      "[1,]  0.1  0.3\n",
      "[2,]  0.2  0.4\n",
      "     [,1] [,2]\n",
      "[1,]   40   40\n",
      "[2,]   60   60\n"
     ]
    }
   ],
   "source": [
    "x <- matrix(1:4, 2, 2)\n",
    "y <- matrix(rep(10,4), 2, 2)\n",
    "print(x * y)\n",
    "print(x / y)\n",
    "print(x %*% y)"
   ]
  },
  {
   "cell_type": "markdown",
   "metadata": {},
   "source": [
    "# Dates and Times"
   ]
  },
  {
   "cell_type": "markdown",
   "metadata": {},
   "source": [
    "Dates are stored internally as the number of days since 1970/01/01 and time as number of seconds since 1970/01/01. Dates are represented by the *Date* class and can be coerced from a character string using **as.Date()** function. Internal representation of the Date object can be seen using the function **unclass**."
   ]
  },
  {
   "cell_type": "code",
   "execution_count": 40,
   "metadata": {},
   "outputs": [
    {
     "data": {
      "text/html": [
       "<time datetime=\"1970-01-10\">1970-01-10</time>"
      ],
      "text/latex": [
       "1970-01-10"
      ],
      "text/markdown": [
       "1970-01-10"
      ],
      "text/plain": [
       "[1] \"1970-01-10\""
      ]
     },
     "metadata": {},
     "output_type": "display_data"
    }
   ],
   "source": [
    "x <- as.Date(\"1970/01/10\")\n",
    "x"
   ]
  },
  {
   "cell_type": "code",
   "execution_count": 41,
   "metadata": {},
   "outputs": [
    {
     "data": {
      "text/html": [
       "9"
      ],
      "text/latex": [
       "9"
      ],
      "text/markdown": [
       "9"
      ],
      "text/plain": [
       "[1] 9"
      ]
     },
     "metadata": {},
     "output_type": "display_data"
    }
   ],
   "source": [
    "unclass(x)"
   ]
  },
  {
   "cell_type": "markdown",
   "metadata": {},
   "source": [
    "Times are represented by **POSIXlt** and **POSIXct**\n",
    "* POSIXlt - a list of information like day of the week, day etc\n",
    "* POSIXct - a large number"
   ]
  },
  {
   "cell_type": "code",
   "execution_count": 42,
   "metadata": {},
   "outputs": [
    {
     "data": {
      "text/plain": [
       "[1] \"2019-10-30 21:52:27 CET\""
      ]
     },
     "metadata": {},
     "output_type": "display_data"
    }
   ],
   "source": [
    "x <- Sys.time()\n",
    "x"
   ]
  },
  {
   "cell_type": "code",
   "execution_count": 43,
   "metadata": {},
   "outputs": [
    {
     "data": {
      "text/plain": [
       "[1] \"2019-10-30 21:52:27 CET\""
      ]
     },
     "metadata": {},
     "output_type": "display_data"
    }
   ],
   "source": [
    "p <- as.POSIXlt(x)\n",
    "p"
   ]
  },
  {
   "cell_type": "code",
   "execution_count": 44,
   "metadata": {},
   "outputs": [
    {
     "data": {
      "text/html": [
       "<dl>\n",
       "\t<dt>$sec</dt>\n",
       "\t\t<dd>27.4375081062317</dd>\n",
       "\t<dt>$min</dt>\n",
       "\t\t<dd>52</dd>\n",
       "\t<dt>$hour</dt>\n",
       "\t\t<dd>21</dd>\n",
       "\t<dt>$mday</dt>\n",
       "\t\t<dd>30</dd>\n",
       "\t<dt>$mon</dt>\n",
       "\t\t<dd>9</dd>\n",
       "\t<dt>$year</dt>\n",
       "\t\t<dd>119</dd>\n",
       "\t<dt>$wday</dt>\n",
       "\t\t<dd>3</dd>\n",
       "\t<dt>$yday</dt>\n",
       "\t\t<dd>302</dd>\n",
       "\t<dt>$isdst</dt>\n",
       "\t\t<dd>0</dd>\n",
       "\t<dt>$zone</dt>\n",
       "\t\t<dd>'CET'</dd>\n",
       "\t<dt>$gmtoff</dt>\n",
       "\t\t<dd>3600</dd>\n",
       "</dl>\n"
      ],
      "text/latex": [
       "\\begin{description}\n",
       "\\item[\\$sec] 27.4375081062317\n",
       "\\item[\\$min] 52\n",
       "\\item[\\$hour] 21\n",
       "\\item[\\$mday] 30\n",
       "\\item[\\$mon] 9\n",
       "\\item[\\$year] 119\n",
       "\\item[\\$wday] 3\n",
       "\\item[\\$yday] 302\n",
       "\\item[\\$isdst] 0\n",
       "\\item[\\$zone] 'CET'\n",
       "\\item[\\$gmtoff] 3600\n",
       "\\end{description}\n"
      ],
      "text/markdown": [
       "$sec\n",
       ":   27.4375081062317\n",
       "$min\n",
       ":   52\n",
       "$hour\n",
       ":   21\n",
       "$mday\n",
       ":   30\n",
       "$mon\n",
       ":   9\n",
       "$year\n",
       ":   119\n",
       "$wday\n",
       ":   3\n",
       "$yday\n",
       ":   302\n",
       "$isdst\n",
       ":   0\n",
       "$zone\n",
       ":   'CET'\n",
       "$gmtoff\n",
       ":   3600\n",
       "\n",
       "\n"
      ],
      "text/plain": [
       "$sec\n",
       "[1] 27.43751\n",
       "\n",
       "$min\n",
       "[1] 52\n",
       "\n",
       "$hour\n",
       "[1] 21\n",
       "\n",
       "$mday\n",
       "[1] 30\n",
       "\n",
       "$mon\n",
       "[1] 9\n",
       "\n",
       "$year\n",
       "[1] 119\n",
       "\n",
       "$wday\n",
       "[1] 3\n",
       "\n",
       "$yday\n",
       "[1] 302\n",
       "\n",
       "$isdst\n",
       "[1] 0\n",
       "\n",
       "$zone\n",
       "[1] \"CET\"\n",
       "\n",
       "$gmtoff\n",
       "[1] 3600\n",
       "\n",
       "attr(,\"tzone\")\n",
       "[1] \"\"     \"CET\"  \"CEST\""
      ]
     },
     "metadata": {},
     "output_type": "display_data"
    }
   ],
   "source": [
    "unclass(p)"
   ]
  },
  {
   "cell_type": "code",
   "execution_count": 45,
   "metadata": {},
   "outputs": [
    {
     "data": {
      "text/html": [
       "1572468747.43751"
      ],
      "text/latex": [
       "1572468747.43751"
      ],
      "text/markdown": [
       "1572468747.43751"
      ],
      "text/plain": [
       "[1] 1572468747"
      ]
     },
     "metadata": {},
     "output_type": "display_data"
    }
   ],
   "source": [
    "unclass(x)"
   ]
  },
  {
   "cell_type": "code",
   "execution_count": 48,
   "metadata": {},
   "outputs": [
    {
     "data": {
      "text/html": [
       "30"
      ],
      "text/latex": [
       "30"
      ],
      "text/markdown": [
       "30"
      ],
      "text/plain": [
       "[1] 30"
      ]
     },
     "metadata": {},
     "output_type": "display_data"
    }
   ],
   "source": [
    "p$mday"
   ]
  },
  {
   "cell_type": "markdown",
   "metadata": {},
   "source": [
    "And for custom formatted time and date strings one can use the **strptime** function. "
   ]
  },
  {
   "cell_type": "code",
   "execution_count": 49,
   "metadata": {},
   "outputs": [
    {
     "data": {
      "text/plain": [
       "[1] \"2012-01-10 10:40:00 CET\""
      ]
     },
     "metadata": {},
     "output_type": "display_data"
    }
   ],
   "source": [
    "datestring <- c(\"January 10, 2012 10:40\")\n",
    "x <- strptime(datestring, \"%B %d, %Y %H:%M\")\n",
    "x"
   ]
  },
  {
   "cell_type": "markdown",
   "metadata": {},
   "source": [
    "### Operations on Dates and Times"
   ]
  },
  {
   "cell_type": "markdown",
   "metadata": {},
   "source": [
    "Arithematic operations like + and - are allowed.\n",
    "Comparision operations like == and <= are also allowed. "
   ]
  },
  {
   "cell_type": "code",
   "execution_count": 51,
   "metadata": {},
   "outputs": [
    {
     "data": {
      "text/plain": [
       "Time difference of 3.06676 secs"
      ]
     },
     "metadata": {},
     "output_type": "display_data"
    }
   ],
   "source": [
    "x1 <- Sys.time()\n",
    "Sys.sleep(3) # Sleep for 3 seconds.\n",
    "x2 <- Sys.time()\n",
    "x2 - x1"
   ]
  },
  {
   "cell_type": "code",
   "execution_count": 52,
   "metadata": {},
   "outputs": [
    {
     "data": {
      "text/plain": [
       "Time difference of 2712 days"
      ]
     },
     "metadata": {},
     "output_type": "display_data"
    }
   ],
   "source": [
    "x1 <- as.Date(\"2012-03-01\")\n",
    "x2 <- as.Date(\"2019-08-04\")\n",
    "x2 - x1"
   ]
  },
  {
   "cell_type": "markdown",
   "metadata": {},
   "source": [
    "## Manageing Data Frames with the dplyr package"
   ]
  },
  {
   "cell_type": "markdown",
   "metadata": {},
   "source": [
    "## Functions\n",
    "\n",
    "* Functions are first class objects in R\n",
    "* Functions can be passed as arguments to other functions.\n",
    "* Functions can be nested. "
   ]
  },
  {
   "cell_type": "markdown",
   "metadata": {},
   "source": [
    "## Loop Functions"
   ]
  },
  {
   "cell_type": "markdown",
   "metadata": {},
   "source": [
    "### lapply()\n",
    "Loops over a list and evaluate a function on each element. "
   ]
  },
  {
   "cell_type": "code",
   "execution_count": 1,
   "metadata": {},
   "outputs": [
    {
     "data": {
      "text/html": [
       "<dl>\n",
       "\t<dt>$a</dt>\n",
       "\t\t<dd><ol class=list-inline>\n",
       "\t<li>1</li>\n",
       "\t<li>2</li>\n",
       "\t<li>3</li>\n",
       "\t<li>4</li>\n",
       "\t<li>5</li>\n",
       "</ol>\n",
       "</dd>\n",
       "\t<dt>$b</dt>\n",
       "\t\t<dd><ol class=list-inline>\n",
       "\t<li>0.333992534482513</li>\n",
       "\t<li>0.705464544561907</li>\n",
       "\t<li>1.19412933900681</li>\n",
       "\t<li>0.897660655058506</li>\n",
       "\t<li>-0.338197142113429</li>\n",
       "\t<li>1.58730456181839</li>\n",
       "\t<li>-0.0027191176532581</li>\n",
       "\t<li>4.01070904852902</li>\n",
       "\t<li>-1.00696930181645</li>\n",
       "\t<li>-1.71694908357432</li>\n",
       "</ol>\n",
       "</dd>\n",
       "</dl>\n"
      ],
      "text/latex": [
       "\\begin{description}\n",
       "\\item[\\$a] \\begin{enumerate*}\n",
       "\\item 1\n",
       "\\item 2\n",
       "\\item 3\n",
       "\\item 4\n",
       "\\item 5\n",
       "\\end{enumerate*}\n",
       "\n",
       "\\item[\\$b] \\begin{enumerate*}\n",
       "\\item 0.333992534482513\n",
       "\\item 0.705464544561907\n",
       "\\item 1.19412933900681\n",
       "\\item 0.897660655058506\n",
       "\\item -0.338197142113429\n",
       "\\item 1.58730456181839\n",
       "\\item -0.0027191176532581\n",
       "\\item 4.01070904852902\n",
       "\\item -1.00696930181645\n",
       "\\item -1.71694908357432\n",
       "\\end{enumerate*}\n",
       "\n",
       "\\end{description}\n"
      ],
      "text/markdown": [
       "$a\n",
       ":   1. 1\n",
       "2. 2\n",
       "3. 3\n",
       "4. 4\n",
       "5. 5\n",
       "\n",
       "\n",
       "\n",
       "$b\n",
       ":   1. 0.333992534482513\n",
       "2. 0.705464544561907\n",
       "3. 1.19412933900681\n",
       "4. 0.897660655058506\n",
       "5. -0.338197142113429\n",
       "6. 1.58730456181839\n",
       "7. -0.0027191176532581\n",
       "8. 4.01070904852902\n",
       "9. -1.00696930181645\n",
       "10. -1.71694908357432\n",
       "\n",
       "\n",
       "\n",
       "\n",
       "\n"
      ],
      "text/plain": [
       "$a\n",
       "[1] 1 2 3 4 5\n",
       "\n",
       "$b\n",
       " [1]  0.333992534  0.705464545  1.194129339  0.897660655 -0.338197142\n",
       " [6]  1.587304562 -0.002719118  4.010709049 -1.006969302 -1.716949084\n"
      ]
     },
     "metadata": {},
     "output_type": "display_data"
    }
   ],
   "source": [
    "x <- list(a = 1:5, b = rnorm(10))\n",
    "x"
   ]
  },
  {
   "cell_type": "code",
   "execution_count": 2,
   "metadata": {},
   "outputs": [
    {
     "data": {
      "text/html": [
       "<dl>\n",
       "\t<dt>$a</dt>\n",
       "\t\t<dd>3</dd>\n",
       "\t<dt>$b</dt>\n",
       "\t\t<dd>0.566442603829969</dd>\n",
       "</dl>\n"
      ],
      "text/latex": [
       "\\begin{description}\n",
       "\\item[\\$a] 3\n",
       "\\item[\\$b] 0.566442603829969\n",
       "\\end{description}\n"
      ],
      "text/markdown": [
       "$a\n",
       ":   3\n",
       "$b\n",
       ":   0.566442603829969\n",
       "\n",
       "\n"
      ],
      "text/plain": [
       "$a\n",
       "[1] 3\n",
       "\n",
       "$b\n",
       "[1] 0.5664426\n"
      ]
     },
     "metadata": {},
     "output_type": "display_data"
    }
   ],
   "source": [
    "lapply(x, mean)"
   ]
  },
  {
   "cell_type": "markdown",
   "metadata": {},
   "source": [
    "How to pass arguments to the function "
   ]
  },
  {
   "cell_type": "code",
   "execution_count": 4,
   "metadata": {},
   "outputs": [
    {
     "name": "stdout",
     "output_type": "stream",
     "text": [
      "[1] 1 2 3 4\n"
     ]
    },
    {
     "data": {
      "text/html": [
       "<ol>\n",
       "\t<li>0.853606056421995</li>\n",
       "\t<li><ol class=list-inline>\n",
       "\t<li>3.26256968546659</li>\n",
       "\t<li>2.1631114622578</li>\n",
       "</ol>\n",
       "</li>\n",
       "\t<li><ol class=list-inline>\n",
       "\t<li>1.8063058136031</li>\n",
       "\t<li>0.967830486595631</li>\n",
       "\t<li>0.549360560253263</li>\n",
       "</ol>\n",
       "</li>\n",
       "\t<li><ol class=list-inline>\n",
       "\t<li>0.740578524768353</li>\n",
       "\t<li>2.963468096219</li>\n",
       "\t<li>0.291756795719266</li>\n",
       "\t<li>0.670440761372447</li>\n",
       "</ol>\n",
       "</li>\n",
       "</ol>\n"
      ],
      "text/latex": [
       "\\begin{enumerate}\n",
       "\\item 0.853606056421995\n",
       "\\item \\begin{enumerate*}\n",
       "\\item 3.26256968546659\n",
       "\\item 2.1631114622578\n",
       "\\end{enumerate*}\n",
       "\n",
       "\\item \\begin{enumerate*}\n",
       "\\item 1.8063058136031\n",
       "\\item 0.967830486595631\n",
       "\\item 0.549360560253263\n",
       "\\end{enumerate*}\n",
       "\n",
       "\\item \\begin{enumerate*}\n",
       "\\item 0.740578524768353\n",
       "\\item 2.963468096219\n",
       "\\item 0.291756795719266\n",
       "\\item 0.670440761372447\n",
       "\\end{enumerate*}\n",
       "\n",
       "\\end{enumerate}\n"
      ],
      "text/markdown": [
       "1. 0.853606056421995\n",
       "2. 1. 3.26256968546659\n",
       "2. 2.1631114622578\n",
       "\n",
       "\n",
       "\n",
       "3. 1. 1.8063058136031\n",
       "2. 0.967830486595631\n",
       "3. 0.549360560253263\n",
       "\n",
       "\n",
       "\n",
       "4. 1. 0.740578524768353\n",
       "2. 2.963468096219\n",
       "3. 0.291756795719266\n",
       "4. 0.670440761372447\n",
       "\n",
       "\n",
       "\n",
       "\n",
       "\n"
      ],
      "text/plain": [
       "[[1]]\n",
       "[1] 0.8536061\n",
       "\n",
       "[[2]]\n",
       "[1] 3.262570 2.163111\n",
       "\n",
       "[[3]]\n",
       "[1] 1.8063058 0.9678305 0.5493606\n",
       "\n",
       "[[4]]\n",
       "[1] 0.7405785 2.9634681 0.2917568 0.6704408\n"
      ]
     },
     "metadata": {},
     "output_type": "display_data"
    }
   ],
   "source": [
    "x <- 1:4\n",
    "print(x)\n",
    "lapply(x, runif, min=0, max=4)"
   ]
  },
  {
   "cell_type": "markdown",
   "metadata": {},
   "source": [
    "### sapply()"
   ]
  },
  {
   "cell_type": "markdown",
   "metadata": {},
   "source": [
    "Difference between **lapply** and **sapply** is that **sapply** tries to simplify the output. \n",
    "* If the result is a list where every element is length 1, then a vector is returned\n",
    "* If the result is a list where every element is a vector of the same length (> 1), a matrix is\n",
    "returned.\n",
    "* If it can’t figure things out, a list is returned"
   ]
  },
  {
   "cell_type": "code",
   "execution_count": 1,
   "metadata": {},
   "outputs": [],
   "source": [
    "x <- list(a = 1:4, b = rnorm(10), c = rnorm(20, 1), d = rnorm(100, 5))"
   ]
  },
  {
   "cell_type": "code",
   "execution_count": 2,
   "metadata": {},
   "outputs": [
    {
     "data": {
      "text/html": [
       "<dl>\n",
       "\t<dt>$a</dt>\n",
       "\t\t<dd>2.5</dd>\n",
       "\t<dt>$b</dt>\n",
       "\t\t<dd>0.269752679391995</dd>\n",
       "\t<dt>$c</dt>\n",
       "\t\t<dd>0.946536606013032</dd>\n",
       "\t<dt>$d</dt>\n",
       "\t\t<dd>5.1331173135368</dd>\n",
       "</dl>\n"
      ],
      "text/latex": [
       "\\begin{description}\n",
       "\\item[\\$a] 2.5\n",
       "\\item[\\$b] 0.269752679391995\n",
       "\\item[\\$c] 0.946536606013032\n",
       "\\item[\\$d] 5.1331173135368\n",
       "\\end{description}\n"
      ],
      "text/markdown": [
       "$a\n",
       ":   2.5\n",
       "$b\n",
       ":   0.269752679391995\n",
       "$c\n",
       ":   0.946536606013032\n",
       "$d\n",
       ":   5.1331173135368\n",
       "\n",
       "\n"
      ],
      "text/plain": [
       "$a\n",
       "[1] 2.5\n",
       "\n",
       "$b\n",
       "[1] 0.2697527\n",
       "\n",
       "$c\n",
       "[1] 0.9465366\n",
       "\n",
       "$d\n",
       "[1] 5.133117\n"
      ]
     },
     "metadata": {},
     "output_type": "display_data"
    }
   ],
   "source": [
    "lapply(x, mean)"
   ]
  },
  {
   "cell_type": "code",
   "execution_count": 8,
   "metadata": {},
   "outputs": [
    {
     "data": {
      "text/html": [
       "<dl class=dl-horizontal>\n",
       "\t<dt>a</dt>\n",
       "\t\t<dd>2.5</dd>\n",
       "\t<dt>b</dt>\n",
       "\t\t<dd>0.200420536360886</dd>\n",
       "\t<dt>c</dt>\n",
       "\t\t<dd>1.37398069922615</dd>\n",
       "\t<dt>d</dt>\n",
       "\t\t<dd>5.24878809165017</dd>\n",
       "</dl>\n"
      ],
      "text/latex": [
       "\\begin{description*}\n",
       "\\item[a] 2.5\n",
       "\\item[b] 0.200420536360886\n",
       "\\item[c] 1.37398069922615\n",
       "\\item[d] 5.24878809165017\n",
       "\\end{description*}\n"
      ],
      "text/markdown": [
       "a\n",
       ":   2.5b\n",
       ":   0.200420536360886c\n",
       ":   1.37398069922615d\n",
       ":   5.24878809165017\n",
       "\n"
      ],
      "text/plain": [
       "        a         b         c         d \n",
       "2.5000000 0.2004205 1.3739807 5.2487881 "
      ]
     },
     "metadata": {},
     "output_type": "display_data"
    }
   ],
   "source": [
    "res <- sapply(x, mean)\n",
    "res"
   ]
  },
  {
   "cell_type": "markdown",
   "metadata": {},
   "source": [
    "#### split()"
   ]
  },
  {
   "cell_type": "markdown",
   "metadata": {},
   "source": [
    "This function takes a vector or other objects and splits it into groups determined by a factor or list of factors. "
   ]
  },
  {
   "cell_type": "code",
   "execution_count": 4,
   "metadata": {},
   "outputs": [
    {
     "data": {
      "text/html": [
       "<dl>\n",
       "\t<dt>$`1`</dt>\n",
       "\t\t<dd>0.35862650346304</dd>\n",
       "\t<dt>$`2`</dt>\n",
       "\t\t<dd>0.536371489241719</dd>\n",
       "\t<dt>$`3`</dt>\n",
       "\t\t<dd>1.47458724302464</dd>\n",
       "</dl>\n"
      ],
      "text/latex": [
       "\\begin{description}\n",
       "\\item[\\$`1`] 0.35862650346304\n",
       "\\item[\\$`2`] 0.536371489241719\n",
       "\\item[\\$`3`] 1.47458724302464\n",
       "\\end{description}\n"
      ],
      "text/markdown": [
       "$`1`\n",
       ":   0.35862650346304\n",
       "$`2`\n",
       ":   0.536371489241719\n",
       "$`3`\n",
       ":   1.47458724302464\n",
       "\n",
       "\n"
      ],
      "text/plain": [
       "$`1`\n",
       "[1] 0.3586265\n",
       "\n",
       "$`2`\n",
       "[1] 0.5363715\n",
       "\n",
       "$`3`\n",
       "[1] 1.474587\n"
      ]
     },
     "metadata": {},
     "output_type": "display_data"
    }
   ],
   "source": [
    "x <- c(rnorm(10), runif(10), rnorm(10,1))\n",
    "f <- gl(3, 10)\n",
    "lapply(split(x,f), mean)"
   ]
  },
  {
   "cell_type": "markdown",
   "metadata": {},
   "source": [
    "A combination of **split** and **lapply** or **sapply** functions like map reduce. "
   ]
  },
  {
   "cell_type": "code",
   "execution_count": 5,
   "metadata": {},
   "outputs": [
    {
     "data": {
      "text/html": [
       "<dl>\n",
       "\t<dt>$`1`</dt>\n",
       "\t\t<dd>-0.101793804964271</dd>\n",
       "\t<dt>$`2`</dt>\n",
       "\t\t<dd>0.512084399652667</dd>\n",
       "\t<dt>$`3`</dt>\n",
       "\t\t<dd>1.05363380676347</dd>\n",
       "</dl>\n"
      ],
      "text/latex": [
       "\\begin{description}\n",
       "\\item[\\$`1`] -0.101793804964271\n",
       "\\item[\\$`2`] 0.512084399652667\n",
       "\\item[\\$`3`] 1.05363380676347\n",
       "\\end{description}\n"
      ],
      "text/markdown": [
       "$`1`\n",
       ":   -0.101793804964271\n",
       "$`2`\n",
       ":   0.512084399652667\n",
       "$`3`\n",
       ":   1.05363380676347\n",
       "\n",
       "\n"
      ],
      "text/plain": [
       "$`1`\n",
       "[1] -0.1017938\n",
       "\n",
       "$`2`\n",
       "[1] 0.5120844\n",
       "\n",
       "$`3`\n",
       "[1] 1.053634\n"
      ]
     },
     "metadata": {},
     "output_type": "display_data"
    }
   ],
   "source": [
    "x <- c(rnorm(10), runif(10), rnorm(10,1))\n",
    "f <- gl(3,10)\n",
    "lapply(split(x,f), mean)"
   ]
  },
  {
   "cell_type": "markdown",
   "metadata": {},
   "source": [
    "#### Splitting a dataframe"
   ]
  },
  {
   "cell_type": "code",
   "execution_count": 8,
   "metadata": {},
   "outputs": [
    {
     "data": {
      "text/html": [
       "<table>\n",
       "<caption>A data.frame: 6 × 6</caption>\n",
       "<thead>\n",
       "\t<tr><th scope=col>Ozone</th><th scope=col>Solar.R</th><th scope=col>Wind</th><th scope=col>Temp</th><th scope=col>Month</th><th scope=col>Day</th></tr>\n",
       "\t<tr><th scope=col>&lt;int&gt;</th><th scope=col>&lt;int&gt;</th><th scope=col>&lt;dbl&gt;</th><th scope=col>&lt;int&gt;</th><th scope=col>&lt;int&gt;</th><th scope=col>&lt;int&gt;</th></tr>\n",
       "</thead>\n",
       "<tbody>\n",
       "\t<tr><td>41</td><td>190</td><td> 7.4</td><td>67</td><td>5</td><td>1</td></tr>\n",
       "\t<tr><td>36</td><td>118</td><td> 8.0</td><td>72</td><td>5</td><td>2</td></tr>\n",
       "\t<tr><td>12</td><td>149</td><td>12.6</td><td>74</td><td>5</td><td>3</td></tr>\n",
       "\t<tr><td>18</td><td>313</td><td>11.5</td><td>62</td><td>5</td><td>4</td></tr>\n",
       "\t<tr><td>NA</td><td> NA</td><td>14.3</td><td>56</td><td>5</td><td>5</td></tr>\n",
       "\t<tr><td>28</td><td> NA</td><td>14.9</td><td>66</td><td>5</td><td>6</td></tr>\n",
       "</tbody>\n",
       "</table>\n"
      ],
      "text/latex": [
       "A data.frame: 6 × 6\n",
       "\\begin{tabular}{r|llllll}\n",
       " Ozone & Solar.R & Wind & Temp & Month & Day\\\\\n",
       " <int> & <int> & <dbl> & <int> & <int> & <int>\\\\\n",
       "\\hline\n",
       "\t 41 & 190 &  7.4 & 67 & 5 & 1\\\\\n",
       "\t 36 & 118 &  8.0 & 72 & 5 & 2\\\\\n",
       "\t 12 & 149 & 12.6 & 74 & 5 & 3\\\\\n",
       "\t 18 & 313 & 11.5 & 62 & 5 & 4\\\\\n",
       "\t NA &  NA & 14.3 & 56 & 5 & 5\\\\\n",
       "\t 28 &  NA & 14.9 & 66 & 5 & 6\\\\\n",
       "\\end{tabular}\n"
      ],
      "text/markdown": [
       "\n",
       "A data.frame: 6 × 6\n",
       "\n",
       "| Ozone &lt;int&gt; | Solar.R &lt;int&gt; | Wind &lt;dbl&gt; | Temp &lt;int&gt; | Month &lt;int&gt; | Day &lt;int&gt; |\n",
       "|---|---|---|---|---|---|\n",
       "| 41 | 190 |  7.4 | 67 | 5 | 1 |\n",
       "| 36 | 118 |  8.0 | 72 | 5 | 2 |\n",
       "| 12 | 149 | 12.6 | 74 | 5 | 3 |\n",
       "| 18 | 313 | 11.5 | 62 | 5 | 4 |\n",
       "| NA |  NA | 14.3 | 56 | 5 | 5 |\n",
       "| 28 |  NA | 14.9 | 66 | 5 | 6 |\n",
       "\n"
      ],
      "text/plain": [
       "  Ozone Solar.R Wind Temp Month Day\n",
       "1 41    190      7.4 67   5     1  \n",
       "2 36    118      8.0 72   5     2  \n",
       "3 12    149     12.6 74   5     3  \n",
       "4 18    313     11.5 62   5     4  \n",
       "5 NA     NA     14.3 56   5     5  \n",
       "6 28     NA     14.9 66   5     6  "
      ]
     },
     "metadata": {},
     "output_type": "display_data"
    },
    {
     "name": "stdout",
     "output_type": "stream",
     "text": [
      "List of 5\n",
      " $ 5:'data.frame':\t31 obs. of  6 variables:\n",
      "  ..$ Ozone  : int [1:31] 41 36 12 18 NA 28 23 19 8 NA ...\n",
      "  ..$ Solar.R: int [1:31] 190 118 149 313 NA NA 299 99 19 194 ...\n",
      "  ..$ Wind   : num [1:31] 7.4 8 12.6 11.5 14.3 14.9 8.6 13.8 20.1 8.6 ...\n",
      "  ..$ Temp   : int [1:31] 67 72 74 62 56 66 65 59 61 69 ...\n",
      "  ..$ Month  : int [1:31] 5 5 5 5 5 5 5 5 5 5 ...\n",
      "  ..$ Day    : int [1:31] 1 2 3 4 5 6 7 8 9 10 ...\n",
      " $ 6:'data.frame':\t30 obs. of  6 variables:\n",
      "  ..$ Ozone  : int [1:30] NA NA NA NA NA NA 29 NA 71 39 ...\n",
      "  ..$ Solar.R: int [1:30] 286 287 242 186 220 264 127 273 291 323 ...\n",
      "  ..$ Wind   : num [1:30] 8.6 9.7 16.1 9.2 8.6 14.3 9.7 6.9 13.8 11.5 ...\n",
      "  ..$ Temp   : int [1:30] 78 74 67 84 85 79 82 87 90 87 ...\n",
      "  ..$ Month  : int [1:30] 6 6 6 6 6 6 6 6 6 6 ...\n",
      "  ..$ Day    : int [1:30] 1 2 3 4 5 6 7 8 9 10 ...\n",
      " $ 7:'data.frame':\t31 obs. of  6 variables:\n",
      "  ..$ Ozone  : int [1:31] 135 49 32 NA 64 40 77 97 97 85 ...\n",
      "  ..$ Solar.R: int [1:31] 269 248 236 101 175 314 276 267 272 175 ...\n",
      "  ..$ Wind   : num [1:31] 4.1 9.2 9.2 10.9 4.6 10.9 5.1 6.3 5.7 7.4 ...\n",
      "  ..$ Temp   : int [1:31] 84 85 81 84 83 83 88 92 92 89 ...\n",
      "  ..$ Month  : int [1:31] 7 7 7 7 7 7 7 7 7 7 ...\n",
      "  ..$ Day    : int [1:31] 1 2 3 4 5 6 7 8 9 10 ...\n",
      " $ 8:'data.frame':\t31 obs. of  6 variables:\n",
      "  ..$ Ozone  : int [1:31] 39 9 16 78 35 66 122 89 110 NA ...\n",
      "  ..$ Solar.R: int [1:31] 83 24 77 NA NA NA 255 229 207 222 ...\n",
      "  ..$ Wind   : num [1:31] 6.9 13.8 7.4 6.9 7.4 4.6 4 10.3 8 8.6 ...\n",
      "  ..$ Temp   : int [1:31] 81 81 82 86 85 87 89 90 90 92 ...\n",
      "  ..$ Month  : int [1:31] 8 8 8 8 8 8 8 8 8 8 ...\n",
      "  ..$ Day    : int [1:31] 1 2 3 4 5 6 7 8 9 10 ...\n",
      " $ 9:'data.frame':\t30 obs. of  6 variables:\n",
      "  ..$ Ozone  : int [1:30] 96 78 73 91 47 32 20 23 21 24 ...\n",
      "  ..$ Solar.R: int [1:30] 167 197 183 189 95 92 252 220 230 259 ...\n",
      "  ..$ Wind   : num [1:30] 6.9 5.1 2.8 4.6 7.4 15.5 10.9 10.3 10.9 9.7 ...\n",
      "  ..$ Temp   : int [1:30] 91 92 93 93 87 84 80 78 75 73 ...\n",
      "  ..$ Month  : int [1:30] 9 9 9 9 9 9 9 9 9 9 ...\n",
      "  ..$ Day    : int [1:30] 1 2 3 4 5 6 7 8 9 10 ...\n"
     ]
    }
   ],
   "source": [
    "library(datasets)\n",
    "head(airquality)\n",
    "s <- split(airquality, airquality$Month)\n",
    "str(s)"
   ]
  },
  {
   "cell_type": "code",
   "execution_count": 9,
   "metadata": {},
   "outputs": [
    {
     "data": {
      "text/html": [
       "<table>\n",
       "<caption>A matrix: 3 × 5 of type dbl</caption>\n",
       "<thead>\n",
       "\t<tr><th></th><th scope=col>5</th><th scope=col>6</th><th scope=col>7</th><th scope=col>8</th><th scope=col>9</th></tr>\n",
       "</thead>\n",
       "<tbody>\n",
       "\t<tr><th scope=row>Ozone</th><td>      NA</td><td>       NA</td><td>        NA</td><td>      NA</td><td>      NA</td></tr>\n",
       "\t<tr><th scope=row>Solar.R</th><td>      NA</td><td>190.16667</td><td>216.483871</td><td>      NA</td><td>167.4333</td></tr>\n",
       "\t<tr><th scope=row>Wind</th><td>11.62258</td><td> 10.26667</td><td>  8.941935</td><td>8.793548</td><td> 10.1800</td></tr>\n",
       "</tbody>\n",
       "</table>\n"
      ],
      "text/latex": [
       "A matrix: 3 × 5 of type dbl\n",
       "\\begin{tabular}{r|lllll}\n",
       "  & 5 & 6 & 7 & 8 & 9\\\\\n",
       "\\hline\n",
       "\tOzone &       NA &        NA &         NA &       NA &       NA\\\\\n",
       "\tSolar.R &       NA & 190.16667 & 216.483871 &       NA & 167.4333\\\\\n",
       "\tWind & 11.62258 &  10.26667 &   8.941935 & 8.793548 &  10.1800\\\\\n",
       "\\end{tabular}\n"
      ],
      "text/markdown": [
       "\n",
       "A matrix: 3 × 5 of type dbl\n",
       "\n",
       "| <!--/--> | 5 | 6 | 7 | 8 | 9 |\n",
       "|---|---|---|---|---|---|\n",
       "| Ozone |       NA |        NA |         NA |       NA |       NA |\n",
       "| Solar.R |       NA | 190.16667 | 216.483871 |       NA | 167.4333 |\n",
       "| Wind | 11.62258 |  10.26667 |   8.941935 | 8.793548 |  10.1800 |\n",
       "\n"
      ],
      "text/plain": [
       "        5        6         7          8        9       \n",
       "Ozone         NA        NA         NA       NA       NA\n",
       "Solar.R       NA 190.16667 216.483871       NA 167.4333\n",
       "Wind    11.62258  10.26667   8.941935 8.793548  10.1800"
      ]
     },
     "metadata": {},
     "output_type": "display_data"
    }
   ],
   "source": [
    "sapply(s, function(x) { colMeans(x[,c(\"Ozone\", \"Solar.R\", \"Wind\")])})"
   ]
  }
 ],
 "metadata": {
  "kernelspec": {
   "display_name": "R",
   "language": "R",
   "name": "ir"
  },
  "language_info": {
   "codemirror_mode": "r",
   "file_extension": ".r",
   "mimetype": "text/x-r-source",
   "name": "R",
   "pygments_lexer": "r",
   "version": "3.5.3"
  }
 },
 "nbformat": 4,
 "nbformat_minor": 2
}

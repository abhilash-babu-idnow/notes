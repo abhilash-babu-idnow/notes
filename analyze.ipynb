{
 "cells": [
  {
   "cell_type": "markdown",
   "metadata": {},
   "source": [
    "# Notebook to analyze the german anki list that I created. "
   ]
  },
  {
   "cell_type": "code",
   "execution_count": 56,
   "metadata": {},
   "outputs": [],
   "source": [
    "from collections import defaultdict \n",
    "import json"
   ]
  },
  {
   "cell_type": "code",
   "execution_count": 92,
   "metadata": {},
   "outputs": [],
   "source": [
    "vocab = defaultdict(list)\n",
    "with open('deutsch_vocabulary.md', encoding='utf-8') as f:\n",
    "    data = f.read()\n",
    "    lines = data.split('\\n')\n",
    "\n",
    "    for line in lines:\n",
    "        # skip lines starting with '#' and blanks\n",
    "        if line.startswith('#') or not line:\n",
    "            continue\n",
    "        word, *meaning = line.strip('*').strip().split(';')\n",
    "        word = word.strip()\n",
    "        \n",
    "        info = {}\n",
    "        tokens = ''.join(meaning).split('<br>')\n",
    "        info['meaning'] = tokens[0]\n",
    "        info['examples'] = []\n",
    "        if len(tokens) > 1:\n",
    "            for idx in range(1,len(tokens)):\n",
    "                de,*en = tokens[idx].split('.')\n",
    "                en = ''.join(en)\n",
    "                info['examples'].append({ \"de\" : de, \"en\" : en})\n",
    "        vocab[word] = info"
   ]
  },
  {
   "cell_type": "code",
   "execution_count": 93,
   "metadata": {},
   "outputs": [],
   "source": [
    "with open(\"vocab.json\", encoding=\"utf-8\", mode=\"w+\") as f:\n",
    "    json.dump(vocab, f)"
   ]
  },
  {
   "cell_type": "markdown",
   "metadata": {},
   "source": [
    "### Check if the data is in proper format"
   ]
  },
  {
   "cell_type": "code",
   "execution_count": 73,
   "metadata": {},
   "outputs": [
    {
     "name": "stdout",
     "output_type": "stream",
     "text": [
      "Berücksichtigen  to consider something, to regard, to allow for something\n",
      "Abschluss  launch, drown\n",
      "Entsprechende  corresponding\n",
      "Umstellung  conversion, migration, changeover, switch etc\n",
      "Führen  to manage, to lead, to guide, to operate\n",
      "Vorschlag  Suggestion. Mein Vorschlag wäre ....\n",
      "anstoßen  to bump, to shove .. to drink a toast to something or somebody. „Ich habe heute meinen Arbeitsvertrag für meine neue Arbeitsstelle unterschrieben! Darauf müssen wir anstoßen!“\n",
      "die Tätigkeit  activity, tasks, occupation. Ich finde meine berufliche Tätigkeit sehr interessant. Es gibt immer etwas Neues.\n",
      "Tatem  doings, actions. wir taten, wie uns befohlen wurde (We did as we were told).\n",
      "Zugehörigkeit  affinity, belonging, membership\n",
      "Beziehung  relationship, connection. Wir haben gute Beziehungen zu unseren Nachbarn.\n",
      "die Auftritte  apperances (acts), performances\n",
      "Einkommensverlust  loss of income\n",
      "Das Rätsel  puzzle, mystery, riddle.\n",
      "Großveranstaltungen  big events, large events\n",
      "Tonaufnahmen  sound recordings.\n",
      "Ehrung  tribute\n",
      "Opfer  victim\n",
      "der Verdacht  suspision\n",
      "immerhin  atleast, though\n",
      "abzufedern  cushion (sth). Boxhandschuhe helfen, die Kraft der Schläge abzufedern. Boxing gloves help to cushion the force of the blows.\n"
     ]
    }
   ],
   "source": [
    "# get all the words without example sentences\n",
    "\n",
    "for word, info in vocab.items():\n",
    "    if len(info) == 1:\n",
    "        print(word, *info)"
   ]
  },
  {
   "cell_type": "code",
   "execution_count": 74,
   "metadata": {},
   "outputs": [
    {
     "data": {
      "text/plain": [
       "'dfadf'"
      ]
     },
     "execution_count": 74,
     "metadata": {},
     "output_type": "execute_result"
    }
   ],
   "source": [
    "\"(dfadf)\".strip(\"()\")"
   ]
  },
  {
   "cell_type": "code",
   "execution_count": null,
   "metadata": {},
   "outputs": [],
   "source": []
  }
 ],
 "metadata": {
  "kernelspec": {
   "display_name": "Python 3",
   "language": "python",
   "name": "python3"
  },
  "language_info": {
   "codemirror_mode": {
    "name": "ipython",
    "version": 3
   },
   "file_extension": ".py",
   "mimetype": "text/x-python",
   "name": "python",
   "nbconvert_exporter": "python",
   "pygments_lexer": "ipython3",
   "version": "3.8.2"
  }
 },
 "nbformat": 4,
 "nbformat_minor": 4
}
